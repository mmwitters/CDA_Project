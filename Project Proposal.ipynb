{
 "cells": [
  {
   "cell_type": "markdown",
   "id": "30243ce0-3553-49de-b55a-52f2f98edfa4",
   "metadata": {
    "jp-MarkdownHeadingCollapsed": true,
    "tags": []
   },
   "source": [
    "## Team Member Names: Madeline Witters {-}"
   ]
  },
  {
   "cell_type": "markdown",
   "id": "c2b1c3c2-a2a8-45fd-af25-7390c9c6423c",
   "metadata": {},
   "source": [
    "## Project Title: {-}"
   ]
  },
  {
   "cell_type": "code",
   "execution_count": null,
   "id": "f10e6cd4-67a5-42d4-b39c-ff961300a9b2",
   "metadata": {},
   "outputs": [],
   "source": []
  }
 ],
 "metadata": {
  "kernelspec": {
   "display_name": "Python 3 (ipykernel)",
   "language": "python",
   "name": "python3"
  },
  "language_info": {
   "codemirror_mode": {
    "name": "ipython",
    "version": 3
   },
   "file_extension": ".py",
   "mimetype": "text/x-python",
   "name": "python",
   "nbconvert_exporter": "python",
   "pygments_lexer": "ipython3",
   "version": "3.8.10"
  }
 },
 "nbformat": 4,
 "nbformat_minor": 5
}
