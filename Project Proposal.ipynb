{
 "cells": [
  {
   "cell_type": "markdown",
   "id": "30243ce0-3553-49de-b55a-52f2f98edfa4",
   "metadata": {
    "jp-MarkdownHeadingCollapsed": true,
    "tags": []
   },
   "source": [
    "## Team Member Names: Madeline Witters {-}"
   ]
  },
  {
   "cell_type": "markdown",
   "id": "c2b1c3c2-a2a8-45fd-af25-7390c9c6423c",
   "metadata": {},
   "source": [
    "## Project Title: {-}"
   ]
  },
  {
   "cell_type": "markdown",
   "id": "cf8ec2d9-c95c-4969-9e28-4b9256b3374c",
   "metadata": {},
   "source": [
    "## Problem Statement {-}"
   ]
  },
  {
   "cell_type": "markdown",
   "id": "09f57986-5cee-4b7b-ae5d-01d1223d0b18",
   "metadata": {},
   "source": [
    "## Data Source {-}"
   ]
  },
  {
   "cell_type": "markdown",
   "id": "0dba33f9-0f14-4cc2-b930-4f0c6f1251c7",
   "metadata": {},
   "source": [
    "For this project I am using the \"Bank Customer Churn\" dataset, sourced from Kaggle. "
   ]
  },
  {
   "cell_type": "markdown",
   "id": "47ddc048-7263-41c3-be5b-7236087f9bf4",
   "metadata": {},
   "source": [
    "## Methodology {-}"
   ]
  },
  {
   "cell_type": "markdown",
   "id": "b074f87a-d14b-469c-bdca-53aa5b792a00",
   "metadata": {},
   "source": [
    "## Evaluation and Final Results {-}"
   ]
  },
  {
   "cell_type": "code",
   "execution_count": null,
   "id": "6cd37655-edbd-4ab6-8aff-f11a346660b2",
   "metadata": {},
   "outputs": [],
   "source": []
  },
  {
   "cell_type": "markdown",
   "id": "8ae8807b-be94-466a-8d66-cfb4838b19a5",
   "metadata": {},
   "source": [
    "## Citations {-}"
   ]
  },
  {
   "cell_type": "markdown",
   "id": "fca65d76-d66e-4037-8e98-63f4e6f1d9d0",
   "metadata": {},
   "source": [
    "+ \"Bank Customer Churn\", [https://www.kaggle.com/datasets/gauravtopre/bank-customer-churn-dataset](https://www.kaggle.com/datasets/gauravtopre/bank-customer-churn-dataset)"
   ]
  }
 ],
 "metadata": {
  "kernelspec": {
   "display_name": "Python 3 (ipykernel)",
   "language": "python",
   "name": "python3"
  },
  "language_info": {
   "codemirror_mode": {
    "name": "ipython",
    "version": 3
   },
   "file_extension": ".py",
   "mimetype": "text/x-python",
   "name": "python",
   "nbconvert_exporter": "python",
   "pygments_lexer": "ipython3",
   "version": "3.8.10"
  }
 },
 "nbformat": 4,
 "nbformat_minor": 5
}
