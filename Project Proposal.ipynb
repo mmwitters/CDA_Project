{
 "cells": [
  {
   "cell_type": "markdown",
   "id": "30243ce0-3553-49de-b55a-52f2f98edfa4",
   "metadata": {
    "jp-MarkdownHeadingCollapsed": true,
    "tags": []
   },
   "source": [
    "## Team Member Names: Madeline Witters {-}"
   ]
  },
  {
   "cell_type": "markdown",
   "id": "c2b1c3c2-a2a8-45fd-af25-7390c9c6423c",
   "metadata": {},
   "source": [
    "## Project Title: {-}"
   ]
  },
  {
   "cell_type": "markdown",
   "id": "cf8ec2d9-c95c-4969-9e28-4b9256b3374c",
   "metadata": {},
   "source": [
    "## Problem Statement {-}"
   ]
  },
  {
   "cell_type": "markdown",
   "id": "cbb57dba-6a53-4367-9c37-0743db2d1c9a",
   "metadata": {},
   "source": [
    "One of the most important metrics of success in any business is customer retention. A business's customer churn rate can have very significant financial impacts that affect the company in a multitude of ways. A [Harvard Business Review article](https://hbr.org/2014/10/the-value-of-keeping-the-right-customers) recently stated that merely increasing a company's retention rates by 5% can increase profits upwards of 25%; conversely, the cost of obtaining a new customer can be anywhere from 5 to 25 times as expensive as retaining an existing one. \n",
    "\n",
    "It therefore follows that if a company is able to predict which customers are at risk of leaving, they can use this information to better position themselves in a variety of ways, such as: identifying customers at risk of leaving and creating an intervention plan, calculating potential loss of revenue in the next quarter, or simply better understanding their customer demographic and various market segments. \n",
    "\n",
    "In this project, there are two central research questions that I will aim to answer: \n",
    "\n",
    "1. Can I predict customer churn with a reasonable accuracy rate? \n",
    "    + Furthermore, does one model type outperform another in predicting customer churn? \n",
    "2. What features/customer attributes (present in the dataset) are most important in predicting whether a customer will churn?"
   ]
  },
  {
   "cell_type": "markdown",
   "id": "09f57986-5cee-4b7b-ae5d-01d1223d0b18",
   "metadata": {},
   "source": [
    "## Data Source {-}"
   ]
  },
  {
   "cell_type": "markdown",
   "id": "0dba33f9-0f14-4cc2-b930-4f0c6f1251c7",
   "metadata": {},
   "source": [
    "For this project I am using the \"Bank Customer Churn\" dataset, sourced from Kaggle. The dataset has 10,000 data points and 12 variables. Each row represents an individual customer. Variables are both categorical and quantitative, and include demographic variables (age, gender, country), as well as industry-specific variables (balance, credit_card, etc.). The response variable \"churn\" is categorical, containing a 1 if the client left the bank and a 0 if they remained a customer. "
   ]
  },
  {
   "cell_type": "markdown",
   "id": "47ddc048-7263-41c3-be5b-7236087f9bf4",
   "metadata": {},
   "source": [
    "## Methodology {-}"
   ]
  },
  {
   "cell_type": "markdown",
   "id": "db4108f7-64f9-4314-a265-be46dc8b2d4e",
   "metadata": {},
   "source": [
    "My methodology will consist of three distinct parts: \n",
    "\n",
    "+ Exploratory Data Analysis\n",
    "+ Variable Selection\n",
    "+ Modeling\n",
    "\n",
    "**Exploratory Data Analysis**\n",
    "\n",
    "Exploratory data analysis will consist of any necessary data cleaning (addressing missing data, removing unnecessary/not relevant variables, coding variables as categorical, etc.), outlier detection, and an examination of any correlation/collinearity between predictor variables present in the data. As part of this step, I also plan to do some basic visual analysis of the predictor variables via boxplots, histograms, or density plots.\n",
    "\n",
    "**Variable Selection**\n",
    "\n",
    "#notes for continuation of proposal: use Lasso or EN for variable selection (anticipate correlation or unecessary features);  may also consider \"most important features\" from RF\n",
    "\n",
    "**Modeling**\n",
    "\n",
    "#plan to fit logistic regression, RF, and potentially a SVM"
   ]
  },
  {
   "cell_type": "markdown",
   "id": "b074f87a-d14b-469c-bdca-53aa5b792a00",
   "metadata": {},
   "source": [
    "## Evaluation and Final Results {-}"
   ]
  },
  {
   "cell_type": "code",
   "execution_count": null,
   "id": "6cd37655-edbd-4ab6-8aff-f11a346660b2",
   "metadata": {},
   "outputs": [],
   "source": []
  },
  {
   "cell_type": "markdown",
   "id": "8ae8807b-be94-466a-8d66-cfb4838b19a5",
   "metadata": {},
   "source": [
    "## Citations {-}"
   ]
  },
  {
   "cell_type": "markdown",
   "id": "fca65d76-d66e-4037-8e98-63f4e6f1d9d0",
   "metadata": {},
   "source": [
    "+ \"Bank Customer Churn\", [https://www.kaggle.com/datasets/gauravtopre/bank-customer-churn-dataset](https://www.kaggle.com/datasets/gauravtopre/bank-customer-churn-dataset)\n",
    "+ \"The Value of Keeping the Right Customers\", Amy Gallo, [https://hbr.org/2014/10/the-value-of-keeping-the-right-customers](https://hbr.org/2014/10/the-value-of-keeping-the-right-customers)"
   ]
  },
  {
   "cell_type": "code",
   "execution_count": null,
   "id": "15203588-255d-4cdb-af37-9a293c92caf6",
   "metadata": {},
   "outputs": [],
   "source": []
  }
 ],
 "metadata": {
  "kernelspec": {
   "display_name": "Python 3 (ipykernel)",
   "language": "python",
   "name": "python3"
  },
  "language_info": {
   "codemirror_mode": {
    "name": "ipython",
    "version": 3
   },
   "file_extension": ".py",
   "mimetype": "text/x-python",
   "name": "python",
   "nbconvert_exporter": "python",
   "pygments_lexer": "ipython3",
   "version": "3.8.10"
  }
 },
 "nbformat": 4,
 "nbformat_minor": 5
}
