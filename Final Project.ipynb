{
 "cells": [
  {
   "cell_type": "markdown",
   "id": "9f14489c-7f06-4a77-8b38-f0a9ee01a84e",
   "metadata": {},
   "source": [
    "## Team Member Names: Madeline Witters {-}"
   ]
  },
  {
   "cell_type": "markdown",
   "id": "7982a8bb-133d-46a8-ac42-92f8b083a284",
   "metadata": {},
   "source": [
    "## Project Title: Predicting Customer Churn and Identifying Attributes of At-Risk Customers {-}"
   ]
  },
  {
   "cell_type": "code",
   "execution_count": 35,
   "id": "1014cc4c-d2b5-468b-82db-3fa7f99d6ac1",
   "metadata": {},
   "outputs": [],
   "source": [
    "import pandas as pd\n",
    "import seaborn as sns\n",
    "import numpy as np\n",
    "import matplotlib.pyplot as plt\n",
    "from sklearn.model_selection import train_test_split\n",
    "from sklearn.linear_model import LassoCV\n",
    "from sklearn.preprocessing import StandardScaler"
   ]
  },
  {
   "cell_type": "code",
   "execution_count": 36,
   "id": "92f1390c-fe92-4018-8ec0-7f773fceaf49",
   "metadata": {},
   "outputs": [
    {
     "data": {
      "text/html": [
       "<div>\n",
       "<style scoped>\n",
       "    .dataframe tbody tr th:only-of-type {\n",
       "        vertical-align: middle;\n",
       "    }\n",
       "\n",
       "    .dataframe tbody tr th {\n",
       "        vertical-align: top;\n",
       "    }\n",
       "\n",
       "    .dataframe thead th {\n",
       "        text-align: right;\n",
       "    }\n",
       "</style>\n",
       "<table border=\"1\" class=\"dataframe\">\n",
       "  <thead>\n",
       "    <tr style=\"text-align: right;\">\n",
       "      <th></th>\n",
       "      <th>credit_score</th>\n",
       "      <th>country</th>\n",
       "      <th>gender</th>\n",
       "      <th>age</th>\n",
       "      <th>tenure</th>\n",
       "      <th>balance</th>\n",
       "      <th>products_number</th>\n",
       "      <th>credit_card</th>\n",
       "      <th>active_member</th>\n",
       "      <th>estimated_salary</th>\n",
       "      <th>churn</th>\n",
       "    </tr>\n",
       "  </thead>\n",
       "  <tbody>\n",
       "    <tr>\n",
       "      <th>0</th>\n",
       "      <td>619</td>\n",
       "      <td>France</td>\n",
       "      <td>Female</td>\n",
       "      <td>42</td>\n",
       "      <td>2</td>\n",
       "      <td>0.00</td>\n",
       "      <td>1</td>\n",
       "      <td>1</td>\n",
       "      <td>1</td>\n",
       "      <td>101348.88</td>\n",
       "      <td>1</td>\n",
       "    </tr>\n",
       "    <tr>\n",
       "      <th>1</th>\n",
       "      <td>608</td>\n",
       "      <td>Spain</td>\n",
       "      <td>Female</td>\n",
       "      <td>41</td>\n",
       "      <td>1</td>\n",
       "      <td>83807.86</td>\n",
       "      <td>1</td>\n",
       "      <td>0</td>\n",
       "      <td>1</td>\n",
       "      <td>112542.58</td>\n",
       "      <td>0</td>\n",
       "    </tr>\n",
       "    <tr>\n",
       "      <th>2</th>\n",
       "      <td>502</td>\n",
       "      <td>France</td>\n",
       "      <td>Female</td>\n",
       "      <td>42</td>\n",
       "      <td>8</td>\n",
       "      <td>159660.80</td>\n",
       "      <td>3</td>\n",
       "      <td>1</td>\n",
       "      <td>0</td>\n",
       "      <td>113931.57</td>\n",
       "      <td>1</td>\n",
       "    </tr>\n",
       "    <tr>\n",
       "      <th>3</th>\n",
       "      <td>699</td>\n",
       "      <td>France</td>\n",
       "      <td>Female</td>\n",
       "      <td>39</td>\n",
       "      <td>1</td>\n",
       "      <td>0.00</td>\n",
       "      <td>2</td>\n",
       "      <td>0</td>\n",
       "      <td>0</td>\n",
       "      <td>93826.63</td>\n",
       "      <td>0</td>\n",
       "    </tr>\n",
       "    <tr>\n",
       "      <th>4</th>\n",
       "      <td>850</td>\n",
       "      <td>Spain</td>\n",
       "      <td>Female</td>\n",
       "      <td>43</td>\n",
       "      <td>2</td>\n",
       "      <td>125510.82</td>\n",
       "      <td>1</td>\n",
       "      <td>1</td>\n",
       "      <td>1</td>\n",
       "      <td>79084.10</td>\n",
       "      <td>0</td>\n",
       "    </tr>\n",
       "  </tbody>\n",
       "</table>\n",
       "</div>"
      ],
      "text/plain": [
       "   credit_score country  gender  age  tenure    balance  products_number  \\\n",
       "0           619  France  Female   42       2       0.00                1   \n",
       "1           608   Spain  Female   41       1   83807.86                1   \n",
       "2           502  France  Female   42       8  159660.80                3   \n",
       "3           699  France  Female   39       1       0.00                2   \n",
       "4           850   Spain  Female   43       2  125510.82                1   \n",
       "\n",
       "   credit_card  active_member  estimated_salary  churn  \n",
       "0            1              1         101348.88      1  \n",
       "1            0              1         112542.58      0  \n",
       "2            1              0         113931.57      1  \n",
       "3            0              0          93826.63      0  \n",
       "4            1              1          79084.10      0  "
      ]
     },
     "execution_count": 36,
     "metadata": {},
     "output_type": "execute_result"
    }
   ],
   "source": [
    "data = pd.read_csv(\"Bank Customer Churn Prediction.csv\")\n",
    "data = data.drop(\"customer_id\", axis=1)\n",
    "data.head()"
   ]
  },
  {
   "cell_type": "code",
   "execution_count": 37,
   "id": "54161307-ac67-4643-b6a4-444dd6262fd8",
   "metadata": {},
   "outputs": [
    {
     "data": {
      "text/plain": [
       "credit_score          int64\n",
       "country              object\n",
       "gender               object\n",
       "age                   int64\n",
       "tenure                int64\n",
       "balance             float64\n",
       "products_number       int64\n",
       "credit_card           int64\n",
       "active_member         int64\n",
       "estimated_salary    float64\n",
       "churn                 int64\n",
       "dtype: object"
      ]
     },
     "execution_count": 37,
     "metadata": {},
     "output_type": "execute_result"
    }
   ],
   "source": [
    "data.dtypes"
   ]
  },
  {
   "cell_type": "code",
   "execution_count": 89,
   "id": "98cb05c0-9dc8-4d75-b56c-e8254a56448a",
   "metadata": {},
   "outputs": [],
   "source": [
    "#EDA to do list: \n",
    "# drop customer_id column DONE\n",
    "# check for missing data DONE\n",
    "# create boxplots for categorical variables DONE\n",
    "# create density plots/histograms for quantitative vars DONE\n",
    "#One Hot encoding: gender, country, Balance DONE\n",
    "\n",
    "#info on why it's best to not do too much one-hot encoding for trees: \n",
    "#https://towardsdatascience.com/one-hot-encoding-is-making-your-tree-based-ensembles-worse-heres-why-d64b282b5769\n",
    "\n",
    "#11/17 TO DO LIST: \n",
    "\n",
    "#outlier removal (do before standardization): \n",
    "#https://medium.com/geekculture/essential-guide-to-handle-outliers-for-your-logistic-regression-model-63c97690a84d\n",
    "\n",
    "#check for multicollinearity: corr plot? REVISE: create ONLY for numeric vars; remove categorical vars (remove gender, country, active, cc)\n",
    "\n",
    "#create mosaic plots for categorical vars\n",
    "\n",
    "#create additional boxplots for numerical vars ?\n",
    "\n",
    "#split into train/test DONE\n",
    "\n",
    "#standardize data DONE\n",
    "\n",
    "#Lasso variable selection DONE (conduct research on what vars to include: perhaps simply include all for now ?)\n",
    "\n",
    "#Create Logistic regression model\n",
    "\n",
    "#Create RF model\n",
    "#   -identify most important vars in RF"
   ]
  },
  {
   "cell_type": "code",
   "execution_count": 39,
   "id": "b00f0fbb-ad69-4ff4-851a-cec07b522fd8",
   "metadata": {},
   "outputs": [
    {
     "data": {
      "text/plain": [
       "credit_score        False\n",
       "country             False\n",
       "gender              False\n",
       "age                 False\n",
       "tenure              False\n",
       "balance             False\n",
       "products_number     False\n",
       "credit_card         False\n",
       "active_member       False\n",
       "estimated_salary    False\n",
       "churn               False\n",
       "dtype: bool"
      ]
     },
     "execution_count": 39,
     "metadata": {},
     "output_type": "execute_result"
    }
   ],
   "source": [
    "null_check = data.isnull().any() #no missing data in the dataframe\n",
    "null_check"
   ]
  },
  {
   "cell_type": "code",
   "execution_count": 40,
   "id": "ce7b1d15-2534-4f9b-8ece-b51edb5a9887",
   "metadata": {},
   "outputs": [
    {
     "data": {
      "text/plain": [
       "credit_score           350\n",
       "country             France\n",
       "gender              Female\n",
       "age                     18\n",
       "tenure                   0\n",
       "balance                0.0\n",
       "products_number          1\n",
       "credit_card              0\n",
       "active_member            0\n",
       "estimated_salary     11.58\n",
       "churn                    0\n",
       "dtype: object"
      ]
     },
     "execution_count": 40,
     "metadata": {},
     "output_type": "execute_result"
    }
   ],
   "source": [
    "data.min()"
   ]
  },
  {
   "cell_type": "code",
   "execution_count": 41,
   "id": "72403e21-f902-4333-aebd-b22d358851ac",
   "metadata": {},
   "outputs": [
    {
     "data": {
      "text/plain": [
       "credit_score              850\n",
       "country                 Spain\n",
       "gender                   Male\n",
       "age                        92\n",
       "tenure                     10\n",
       "balance             250898.09\n",
       "products_number             4\n",
       "credit_card                 1\n",
       "active_member               1\n",
       "estimated_salary    199992.48\n",
       "churn                       1\n",
       "dtype: object"
      ]
     },
     "execution_count": 41,
     "metadata": {},
     "output_type": "execute_result"
    }
   ],
   "source": [
    "data.max()"
   ]
  },
  {
   "cell_type": "code",
   "execution_count": 42,
   "id": "24a27ce7-226b-4451-ab20-50bbfb3afa7c",
   "metadata": {},
   "outputs": [
    {
     "data": {
      "image/png": "[encoded data removed]",
      "text/plain": [
       "<Figure size 640x480 with 1 Axes>"
      ]
     },
     "metadata": {},
     "output_type": "display_data"
    }
   ],
   "source": [
    "sns.set_style('whitegrid')\n",
    "ax = sns.boxplot(x='churn', y='age', data=data)"
   ]
  },
  {
   "cell_type": "code",
   "execution_count": 43,
   "id": "a5b50cc7-1e32-4f6e-b351-5019d046aceb",
   "metadata": {},
   "outputs": [
    {
     "data": {
      "text/plain": [
       "<AxesSubplot:xlabel='balance', ylabel='Count'>"
      ]
     },
     "execution_count": 43,
     "metadata": {},
     "output_type": "execute_result"
    },
    {
     "data": {
      "image/png": "[encoded data removed]",
      "text/plain": [
       "<Figure size 640x480 with 1 Axes>"
      ]
     },
     "metadata": {},
     "output_type": "display_data"
    }
   ],
   "source": [
    "sns.histplot(data=data, x=\"balance\", kde=True)"
   ]
  },
  {
   "cell_type": "code",
   "execution_count": 44,
   "id": "1ea68288-c27c-4706-8480-e0fa16db2b5d",
   "metadata": {},
   "outputs": [],
   "source": [
    "#sns.histplot(data=data, x=\"estimated_salary\", kde=True)"
   ]
  },
  {
   "cell_type": "code",
   "execution_count": 45,
   "id": "04d44bf9-55db-44ab-8b8d-ee58b3adc7a2",
   "metadata": {},
   "outputs": [],
   "source": [
    "#sns.histplot(data=data, x=\"age\", kde=True)"
   ]
  },
  {
   "cell_type": "code",
   "execution_count": 46,
   "id": "9e5eeb82-291d-4349-a4c0-9f80fa7c4723",
   "metadata": {},
   "outputs": [],
   "source": [
    "#sns.histplot(data=data, x=\"tenure\", kde=True)"
   ]
  },
  {
   "cell_type": "code",
   "execution_count": 47,
   "id": "9ce57ee3-68fa-4235-a279-545d040e1ca7",
   "metadata": {},
   "outputs": [],
   "source": [
    "#sns.histplot(data=data, x=\"products_number\", kde=True)"
   ]
  },
  {
   "cell_type": "code",
   "execution_count": 48,
   "id": "506844fe-fc36-4f30-849a-c324de9b17fc",
   "metadata": {},
   "outputs": [
    {
     "data": {
      "text/plain": [
       "0    7963\n",
       "1    2037\n",
       "Name: churn, dtype: int64"
      ]
     },
     "execution_count": 48,
     "metadata": {},
     "output_type": "execute_result"
    }
   ],
   "source": [
    "data['churn'].value_counts()"
   ]
  },
  {
   "cell_type": "code",
   "execution_count": 49,
   "id": "4a884b89-fa2e-4d19-a51c-8abf5d4551c4",
   "metadata": {},
   "outputs": [
    {
     "data": {
      "text/html": [
       "<div>\n",
       "<style scoped>\n",
       "    .dataframe tbody tr th:only-of-type {\n",
       "        vertical-align: middle;\n",
       "    }\n",
       "\n",
       "    .dataframe tbody tr th {\n",
       "        vertical-align: top;\n",
       "    }\n",
       "\n",
       "    .dataframe thead th {\n",
       "        text-align: right;\n",
       "    }\n",
       "</style>\n",
       "<table border=\"1\" class=\"dataframe\">\n",
       "  <thead>\n",
       "    <tr style=\"text-align: right;\">\n",
       "      <th></th>\n",
       "      <th>Female</th>\n",
       "      <th>Male</th>\n",
       "    </tr>\n",
       "  </thead>\n",
       "  <tbody>\n",
       "    <tr>\n",
       "      <th>0</th>\n",
       "      <td>1</td>\n",
       "      <td>0</td>\n",
       "    </tr>\n",
       "    <tr>\n",
       "      <th>1</th>\n",
       "      <td>1</td>\n",
       "      <td>0</td>\n",
       "    </tr>\n",
       "    <tr>\n",
       "      <th>2</th>\n",
       "      <td>1</td>\n",
       "      <td>0</td>\n",
       "    </tr>\n",
       "    <tr>\n",
       "      <th>3</th>\n",
       "      <td>1</td>\n",
       "      <td>0</td>\n",
       "    </tr>\n",
       "    <tr>\n",
       "      <th>4</th>\n",
       "      <td>1</td>\n",
       "      <td>0</td>\n",
       "    </tr>\n",
       "  </tbody>\n",
       "</table>\n",
       "</div>"
      ],
      "text/plain": [
       "   Female  Male\n",
       "0       1     0\n",
       "1       1     0\n",
       "2       1     0\n",
       "3       1     0\n",
       "4       1     0"
      ]
     },
     "execution_count": 49,
     "metadata": {},
     "output_type": "execute_result"
    }
   ],
   "source": [
    "g_one_hot = pd.get_dummies(data['gender'])\n",
    "g_one_hot.head()"
   ]
  },
  {
   "cell_type": "code",
   "execution_count": 50,
   "id": "50998903-6868-43d5-9da2-d931aced9574",
   "metadata": {},
   "outputs": [
    {
     "data": {
      "text/html": [
       "<div>\n",
       "<style scoped>\n",
       "    .dataframe tbody tr th:only-of-type {\n",
       "        vertical-align: middle;\n",
       "    }\n",
       "\n",
       "    .dataframe tbody tr th {\n",
       "        vertical-align: top;\n",
       "    }\n",
       "\n",
       "    .dataframe thead th {\n",
       "        text-align: right;\n",
       "    }\n",
       "</style>\n",
       "<table border=\"1\" class=\"dataframe\">\n",
       "  <thead>\n",
       "    <tr style=\"text-align: right;\">\n",
       "      <th></th>\n",
       "      <th>credit_score</th>\n",
       "      <th>country</th>\n",
       "      <th>age</th>\n",
       "      <th>tenure</th>\n",
       "      <th>balance</th>\n",
       "      <th>products_number</th>\n",
       "      <th>credit_card</th>\n",
       "      <th>active_member</th>\n",
       "      <th>estimated_salary</th>\n",
       "      <th>churn</th>\n",
       "      <th>Female</th>\n",
       "      <th>Male</th>\n",
       "    </tr>\n",
       "  </thead>\n",
       "  <tbody>\n",
       "    <tr>\n",
       "      <th>0</th>\n",
       "      <td>619</td>\n",
       "      <td>France</td>\n",
       "      <td>42</td>\n",
       "      <td>2</td>\n",
       "      <td>0.00</td>\n",
       "      <td>1</td>\n",
       "      <td>1</td>\n",
       "      <td>1</td>\n",
       "      <td>101348.88</td>\n",
       "      <td>1</td>\n",
       "      <td>1</td>\n",
       "      <td>0</td>\n",
       "    </tr>\n",
       "    <tr>\n",
       "      <th>1</th>\n",
       "      <td>608</td>\n",
       "      <td>Spain</td>\n",
       "      <td>41</td>\n",
       "      <td>1</td>\n",
       "      <td>83807.86</td>\n",
       "      <td>1</td>\n",
       "      <td>0</td>\n",
       "      <td>1</td>\n",
       "      <td>112542.58</td>\n",
       "      <td>0</td>\n",
       "      <td>1</td>\n",
       "      <td>0</td>\n",
       "    </tr>\n",
       "    <tr>\n",
       "      <th>2</th>\n",
       "      <td>502</td>\n",
       "      <td>France</td>\n",
       "      <td>42</td>\n",
       "      <td>8</td>\n",
       "      <td>159660.80</td>\n",
       "      <td>3</td>\n",
       "      <td>1</td>\n",
       "      <td>0</td>\n",
       "      <td>113931.57</td>\n",
       "      <td>1</td>\n",
       "      <td>1</td>\n",
       "      <td>0</td>\n",
       "    </tr>\n",
       "    <tr>\n",
       "      <th>3</th>\n",
       "      <td>699</td>\n",
       "      <td>France</td>\n",
       "      <td>39</td>\n",
       "      <td>1</td>\n",
       "      <td>0.00</td>\n",
       "      <td>2</td>\n",
       "      <td>0</td>\n",
       "      <td>0</td>\n",
       "      <td>93826.63</td>\n",
       "      <td>0</td>\n",
       "      <td>1</td>\n",
       "      <td>0</td>\n",
       "    </tr>\n",
       "    <tr>\n",
       "      <th>4</th>\n",
       "      <td>850</td>\n",
       "      <td>Spain</td>\n",
       "      <td>43</td>\n",
       "      <td>2</td>\n",
       "      <td>125510.82</td>\n",
       "      <td>1</td>\n",
       "      <td>1</td>\n",
       "      <td>1</td>\n",
       "      <td>79084.10</td>\n",
       "      <td>0</td>\n",
       "      <td>1</td>\n",
       "      <td>0</td>\n",
       "    </tr>\n",
       "  </tbody>\n",
       "</table>\n",
       "</div>"
      ],
      "text/plain": [
       "   credit_score country  age  tenure    balance  products_number  credit_card  \\\n",
       "0           619  France   42       2       0.00                1            1   \n",
       "1           608   Spain   41       1   83807.86                1            0   \n",
       "2           502  France   42       8  159660.80                3            1   \n",
       "3           699  France   39       1       0.00                2            0   \n",
       "4           850   Spain   43       2  125510.82                1            1   \n",
       "\n",
       "   active_member  estimated_salary  churn  Female  Male  \n",
       "0              1         101348.88      1       1     0  \n",
       "1              1         112542.58      0       1     0  \n",
       "2              0         113931.57      1       1     0  \n",
       "3              0          93826.63      0       1     0  \n",
       "4              1          79084.10      0       1     0  "
      ]
     },
     "execution_count": 50,
     "metadata": {},
     "output_type": "execute_result"
    }
   ],
   "source": [
    "data = data.drop('gender',axis = 1)\n",
    "# Join the encoded df\n",
    "data = data.join(g_one_hot)\n",
    "data.head()"
   ]
  },
  {
   "cell_type": "code",
   "execution_count": 51,
   "id": "2018eb9b-3272-41b8-be08-921dd8a77462",
   "metadata": {},
   "outputs": [
    {
     "data": {
      "text/html": [
       "<div>\n",
       "<style scoped>\n",
       "    .dataframe tbody tr th:only-of-type {\n",
       "        vertical-align: middle;\n",
       "    }\n",
       "\n",
       "    .dataframe tbody tr th {\n",
       "        vertical-align: top;\n",
       "    }\n",
       "\n",
       "    .dataframe thead th {\n",
       "        text-align: right;\n",
       "    }\n",
       "</style>\n",
       "<table border=\"1\" class=\"dataframe\">\n",
       "  <thead>\n",
       "    <tr style=\"text-align: right;\">\n",
       "      <th></th>\n",
       "      <th>France</th>\n",
       "      <th>Germany</th>\n",
       "      <th>Spain</th>\n",
       "    </tr>\n",
       "  </thead>\n",
       "  <tbody>\n",
       "    <tr>\n",
       "      <th>0</th>\n",
       "      <td>1</td>\n",
       "      <td>0</td>\n",
       "      <td>0</td>\n",
       "    </tr>\n",
       "    <tr>\n",
       "      <th>1</th>\n",
       "      <td>0</td>\n",
       "      <td>0</td>\n",
       "      <td>1</td>\n",
       "    </tr>\n",
       "    <tr>\n",
       "      <th>2</th>\n",
       "      <td>1</td>\n",
       "      <td>0</td>\n",
       "      <td>0</td>\n",
       "    </tr>\n",
       "    <tr>\n",
       "      <th>3</th>\n",
       "      <td>1</td>\n",
       "      <td>0</td>\n",
       "      <td>0</td>\n",
       "    </tr>\n",
       "    <tr>\n",
       "      <th>4</th>\n",
       "      <td>0</td>\n",
       "      <td>0</td>\n",
       "      <td>1</td>\n",
       "    </tr>\n",
       "  </tbody>\n",
       "</table>\n",
       "</div>"
      ],
      "text/plain": [
       "   France  Germany  Spain\n",
       "0       1        0      0\n",
       "1       0        0      1\n",
       "2       1        0      0\n",
       "3       1        0      0\n",
       "4       0        0      1"
      ]
     },
     "execution_count": 51,
     "metadata": {},
     "output_type": "execute_result"
    }
   ],
   "source": [
    "c_one_hot = pd.get_dummies(data['country'])\n",
    "c_one_hot.head()"
   ]
  },
  {
   "cell_type": "code",
   "execution_count": 52,
   "id": "9ce3e864-3e5a-4bbe-89e5-043f87892922",
   "metadata": {},
   "outputs": [
    {
     "data": {
      "text/html": [
       "<div>\n",
       "<style scoped>\n",
       "    .dataframe tbody tr th:only-of-type {\n",
       "        vertical-align: middle;\n",
       "    }\n",
       "\n",
       "    .dataframe tbody tr th {\n",
       "        vertical-align: top;\n",
       "    }\n",
       "\n",
       "    .dataframe thead th {\n",
       "        text-align: right;\n",
       "    }\n",
       "</style>\n",
       "<table border=\"1\" class=\"dataframe\">\n",
       "  <thead>\n",
       "    <tr style=\"text-align: right;\">\n",
       "      <th></th>\n",
       "      <th>credit_score</th>\n",
       "      <th>age</th>\n",
       "      <th>tenure</th>\n",
       "      <th>balance</th>\n",
       "      <th>products_number</th>\n",
       "      <th>credit_card</th>\n",
       "      <th>active_member</th>\n",
       "      <th>estimated_salary</th>\n",
       "      <th>churn</th>\n",
       "      <th>Female</th>\n",
       "      <th>Male</th>\n",
       "      <th>France</th>\n",
       "      <th>Germany</th>\n",
       "      <th>Spain</th>\n",
       "    </tr>\n",
       "  </thead>\n",
       "  <tbody>\n",
       "    <tr>\n",
       "      <th>0</th>\n",
       "      <td>619</td>\n",
       "      <td>42</td>\n",
       "      <td>2</td>\n",
       "      <td>0.00</td>\n",
       "      <td>1</td>\n",
       "      <td>1</td>\n",
       "      <td>1</td>\n",
       "      <td>101348.88</td>\n",
       "      <td>1</td>\n",
       "      <td>1</td>\n",
       "      <td>0</td>\n",
       "      <td>1</td>\n",
       "      <td>0</td>\n",
       "      <td>0</td>\n",
       "    </tr>\n",
       "    <tr>\n",
       "      <th>1</th>\n",
       "      <td>608</td>\n",
       "      <td>41</td>\n",
       "      <td>1</td>\n",
       "      <td>83807.86</td>\n",
       "      <td>1</td>\n",
       "      <td>0</td>\n",
       "      <td>1</td>\n",
       "      <td>112542.58</td>\n",
       "      <td>0</td>\n",
       "      <td>1</td>\n",
       "      <td>0</td>\n",
       "      <td>0</td>\n",
       "      <td>0</td>\n",
       "      <td>1</td>\n",
       "    </tr>\n",
       "    <tr>\n",
       "      <th>2</th>\n",
       "      <td>502</td>\n",
       "      <td>42</td>\n",
       "      <td>8</td>\n",
       "      <td>159660.80</td>\n",
       "      <td>3</td>\n",
       "      <td>1</td>\n",
       "      <td>0</td>\n",
       "      <td>113931.57</td>\n",
       "      <td>1</td>\n",
       "      <td>1</td>\n",
       "      <td>0</td>\n",
       "      <td>1</td>\n",
       "      <td>0</td>\n",
       "      <td>0</td>\n",
       "    </tr>\n",
       "    <tr>\n",
       "      <th>3</th>\n",
       "      <td>699</td>\n",
       "      <td>39</td>\n",
       "      <td>1</td>\n",
       "      <td>0.00</td>\n",
       "      <td>2</td>\n",
       "      <td>0</td>\n",
       "      <td>0</td>\n",
       "      <td>93826.63</td>\n",
       "      <td>0</td>\n",
       "      <td>1</td>\n",
       "      <td>0</td>\n",
       "      <td>1</td>\n",
       "      <td>0</td>\n",
       "      <td>0</td>\n",
       "    </tr>\n",
       "    <tr>\n",
       "      <th>4</th>\n",
       "      <td>850</td>\n",
       "      <td>43</td>\n",
       "      <td>2</td>\n",
       "      <td>125510.82</td>\n",
       "      <td>1</td>\n",
       "      <td>1</td>\n",
       "      <td>1</td>\n",
       "      <td>79084.10</td>\n",
       "      <td>0</td>\n",
       "      <td>1</td>\n",
       "      <td>0</td>\n",
       "      <td>0</td>\n",
       "      <td>0</td>\n",
       "      <td>1</td>\n",
       "    </tr>\n",
       "  </tbody>\n",
       "</table>\n",
       "</div>"
      ],
      "text/plain": [
       "   credit_score  age  tenure    balance  products_number  credit_card  \\\n",
       "0           619   42       2       0.00                1            1   \n",
       "1           608   41       1   83807.86                1            0   \n",
       "2           502   42       8  159660.80                3            1   \n",
       "3           699   39       1       0.00                2            0   \n",
       "4           850   43       2  125510.82                1            1   \n",
       "\n",
       "   active_member  estimated_salary  churn  Female  Male  France  Germany  \\\n",
       "0              1         101348.88      1       1     0       1        0   \n",
       "1              1         112542.58      0       1     0       0        0   \n",
       "2              0         113931.57      1       1     0       1        0   \n",
       "3              0          93826.63      0       1     0       1        0   \n",
       "4              1          79084.10      0       1     0       0        0   \n",
       "\n",
       "   Spain  \n",
       "0      0  \n",
       "1      1  \n",
       "2      0  \n",
       "3      0  \n",
       "4      1  "
      ]
     },
     "execution_count": 52,
     "metadata": {},
     "output_type": "execute_result"
    }
   ],
   "source": [
    "data2 = data.drop('country',axis = 1)\n",
    "data2 = data2.join(c_one_hot)\n",
    "data2.head()"
   ]
  },
  {
   "cell_type": "code",
   "execution_count": 53,
   "id": "b9ac4579-5be4-4dbb-8aef-1a9bb5ec4cd2",
   "metadata": {},
   "outputs": [],
   "source": [
    "data2['zero_balance'] = np.where(data2['balance'] == 0.0, 1, 0)"
   ]
  },
  {
   "cell_type": "code",
   "execution_count": 54,
   "id": "e8356f23-64b3-48be-92b1-dc25e4e2ab50",
   "metadata": {},
   "outputs": [
    {
     "data": {
      "text/html": [
       "<div>\n",
       "<style scoped>\n",
       "    .dataframe tbody tr th:only-of-type {\n",
       "        vertical-align: middle;\n",
       "    }\n",
       "\n",
       "    .dataframe tbody tr th {\n",
       "        vertical-align: top;\n",
       "    }\n",
       "\n",
       "    .dataframe thead th {\n",
       "        text-align: right;\n",
       "    }\n",
       "</style>\n",
       "<table border=\"1\" class=\"dataframe\">\n",
       "  <thead>\n",
       "    <tr style=\"text-align: right;\">\n",
       "      <th></th>\n",
       "      <th>credit_score</th>\n",
       "      <th>age</th>\n",
       "      <th>tenure</th>\n",
       "      <th>balance</th>\n",
       "      <th>products_number</th>\n",
       "      <th>credit_card</th>\n",
       "      <th>active_member</th>\n",
       "      <th>estimated_salary</th>\n",
       "      <th>churn</th>\n",
       "      <th>Female</th>\n",
       "      <th>Male</th>\n",
       "      <th>France</th>\n",
       "      <th>Germany</th>\n",
       "      <th>Spain</th>\n",
       "      <th>zero_balance</th>\n",
       "    </tr>\n",
       "  </thead>\n",
       "  <tbody>\n",
       "    <tr>\n",
       "      <th>0</th>\n",
       "      <td>619</td>\n",
       "      <td>42</td>\n",
       "      <td>2</td>\n",
       "      <td>0.00</td>\n",
       "      <td>1</td>\n",
       "      <td>1</td>\n",
       "      <td>1</td>\n",
       "      <td>101348.88</td>\n",
       "      <td>1</td>\n",
       "      <td>1</td>\n",
       "      <td>0</td>\n",
       "      <td>1</td>\n",
       "      <td>0</td>\n",
       "      <td>0</td>\n",
       "      <td>1</td>\n",
       "    </tr>\n",
       "    <tr>\n",
       "      <th>1</th>\n",
       "      <td>608</td>\n",
       "      <td>41</td>\n",
       "      <td>1</td>\n",
       "      <td>83807.86</td>\n",
       "      <td>1</td>\n",
       "      <td>0</td>\n",
       "      <td>1</td>\n",
       "      <td>112542.58</td>\n",
       "      <td>0</td>\n",
       "      <td>1</td>\n",
       "      <td>0</td>\n",
       "      <td>0</td>\n",
       "      <td>0</td>\n",
       "      <td>1</td>\n",
       "      <td>0</td>\n",
       "    </tr>\n",
       "    <tr>\n",
       "      <th>2</th>\n",
       "      <td>502</td>\n",
       "      <td>42</td>\n",
       "      <td>8</td>\n",
       "      <td>159660.80</td>\n",
       "      <td>3</td>\n",
       "      <td>1</td>\n",
       "      <td>0</td>\n",
       "      <td>113931.57</td>\n",
       "      <td>1</td>\n",
       "      <td>1</td>\n",
       "      <td>0</td>\n",
       "      <td>1</td>\n",
       "      <td>0</td>\n",
       "      <td>0</td>\n",
       "      <td>0</td>\n",
       "    </tr>\n",
       "    <tr>\n",
       "      <th>3</th>\n",
       "      <td>699</td>\n",
       "      <td>39</td>\n",
       "      <td>1</td>\n",
       "      <td>0.00</td>\n",
       "      <td>2</td>\n",
       "      <td>0</td>\n",
       "      <td>0</td>\n",
       "      <td>93826.63</td>\n",
       "      <td>0</td>\n",
       "      <td>1</td>\n",
       "      <td>0</td>\n",
       "      <td>1</td>\n",
       "      <td>0</td>\n",
       "      <td>0</td>\n",
       "      <td>1</td>\n",
       "    </tr>\n",
       "    <tr>\n",
       "      <th>4</th>\n",
       "      <td>850</td>\n",
       "      <td>43</td>\n",
       "      <td>2</td>\n",
       "      <td>125510.82</td>\n",
       "      <td>1</td>\n",
       "      <td>1</td>\n",
       "      <td>1</td>\n",
       "      <td>79084.10</td>\n",
       "      <td>0</td>\n",
       "      <td>1</td>\n",
       "      <td>0</td>\n",
       "      <td>0</td>\n",
       "      <td>0</td>\n",
       "      <td>1</td>\n",
       "      <td>0</td>\n",
       "    </tr>\n",
       "  </tbody>\n",
       "</table>\n",
       "</div>"
      ],
      "text/plain": [
       "   credit_score  age  tenure    balance  products_number  credit_card  \\\n",
       "0           619   42       2       0.00                1            1   \n",
       "1           608   41       1   83807.86                1            0   \n",
       "2           502   42       8  159660.80                3            1   \n",
       "3           699   39       1       0.00                2            0   \n",
       "4           850   43       2  125510.82                1            1   \n",
       "\n",
       "   active_member  estimated_salary  churn  Female  Male  France  Germany  \\\n",
       "0              1         101348.88      1       1     0       1        0   \n",
       "1              1         112542.58      0       1     0       0        0   \n",
       "2              0         113931.57      1       1     0       1        0   \n",
       "3              0          93826.63      0       1     0       1        0   \n",
       "4              1          79084.10      0       1     0       0        0   \n",
       "\n",
       "   Spain  zero_balance  \n",
       "0      0             1  \n",
       "1      1             0  \n",
       "2      0             0  \n",
       "3      0             1  \n",
       "4      1             0  "
      ]
     },
     "execution_count": 54,
     "metadata": {},
     "output_type": "execute_result"
    }
   ],
   "source": [
    "data2.head()"
   ]
  },
  {
   "cell_type": "code",
   "execution_count": 55,
   "id": "a36a2e21-20de-4423-bb56-db2f1ced2547",
   "metadata": {},
   "outputs": [],
   "source": [
    "data2 = data2.drop('balance',axis = 1)"
   ]
  },
  {
   "cell_type": "code",
   "execution_count": 56,
   "id": "048690a6-dc01-45f3-882e-3689b95d76ab",
   "metadata": {},
   "outputs": [],
   "source": [
    "first_column = data2.pop('churn')\n",
    "data2.insert(0, 'churn', first_column)"
   ]
  },
  {
   "cell_type": "code",
   "execution_count": 57,
   "id": "d2795a35-b7bc-4bff-b87f-9c2bee2a7d22",
   "metadata": {},
   "outputs": [
    {
     "data": {
      "text/html": [
       "<div>\n",
       "<style scoped>\n",
       "    .dataframe tbody tr th:only-of-type {\n",
       "        vertical-align: middle;\n",
       "    }\n",
       "\n",
       "    .dataframe tbody tr th {\n",
       "        vertical-align: top;\n",
       "    }\n",
       "\n",
       "    .dataframe thead th {\n",
       "        text-align: right;\n",
       "    }\n",
       "</style>\n",
       "<table border=\"1\" class=\"dataframe\">\n",
       "  <thead>\n",
       "    <tr style=\"text-align: right;\">\n",
       "      <th></th>\n",
       "      <th>churn</th>\n",
       "      <th>credit_score</th>\n",
       "      <th>age</th>\n",
       "      <th>tenure</th>\n",
       "      <th>products_number</th>\n",
       "      <th>credit_card</th>\n",
       "      <th>active_member</th>\n",
       "      <th>estimated_salary</th>\n",
       "      <th>Female</th>\n",
       "      <th>Male</th>\n",
       "      <th>France</th>\n",
       "      <th>Germany</th>\n",
       "      <th>Spain</th>\n",
       "      <th>zero_balance</th>\n",
       "    </tr>\n",
       "  </thead>\n",
       "  <tbody>\n",
       "    <tr>\n",
       "      <th>0</th>\n",
       "      <td>1</td>\n",
       "      <td>619</td>\n",
       "      <td>42</td>\n",
       "      <td>2</td>\n",
       "      <td>1</td>\n",
       "      <td>1</td>\n",
       "      <td>1</td>\n",
       "      <td>101348.88</td>\n",
       "      <td>1</td>\n",
       "      <td>0</td>\n",
       "      <td>1</td>\n",
       "      <td>0</td>\n",
       "      <td>0</td>\n",
       "      <td>1</td>\n",
       "    </tr>\n",
       "    <tr>\n",
       "      <th>1</th>\n",
       "      <td>0</td>\n",
       "      <td>608</td>\n",
       "      <td>41</td>\n",
       "      <td>1</td>\n",
       "      <td>1</td>\n",
       "      <td>0</td>\n",
       "      <td>1</td>\n",
       "      <td>112542.58</td>\n",
       "      <td>1</td>\n",
       "      <td>0</td>\n",
       "      <td>0</td>\n",
       "      <td>0</td>\n",
       "      <td>1</td>\n",
       "      <td>0</td>\n",
       "    </tr>\n",
       "    <tr>\n",
       "      <th>2</th>\n",
       "      <td>1</td>\n",
       "      <td>502</td>\n",
       "      <td>42</td>\n",
       "      <td>8</td>\n",
       "      <td>3</td>\n",
       "      <td>1</td>\n",
       "      <td>0</td>\n",
       "      <td>113931.57</td>\n",
       "      <td>1</td>\n",
       "      <td>0</td>\n",
       "      <td>1</td>\n",
       "      <td>0</td>\n",
       "      <td>0</td>\n",
       "      <td>0</td>\n",
       "    </tr>\n",
       "    <tr>\n",
       "      <th>3</th>\n",
       "      <td>0</td>\n",
       "      <td>699</td>\n",
       "      <td>39</td>\n",
       "      <td>1</td>\n",
       "      <td>2</td>\n",
       "      <td>0</td>\n",
       "      <td>0</td>\n",
       "      <td>93826.63</td>\n",
       "      <td>1</td>\n",
       "      <td>0</td>\n",
       "      <td>1</td>\n",
       "      <td>0</td>\n",
       "      <td>0</td>\n",
       "      <td>1</td>\n",
       "    </tr>\n",
       "    <tr>\n",
       "      <th>4</th>\n",
       "      <td>0</td>\n",
       "      <td>850</td>\n",
       "      <td>43</td>\n",
       "      <td>2</td>\n",
       "      <td>1</td>\n",
       "      <td>1</td>\n",
       "      <td>1</td>\n",
       "      <td>79084.10</td>\n",
       "      <td>1</td>\n",
       "      <td>0</td>\n",
       "      <td>0</td>\n",
       "      <td>0</td>\n",
       "      <td>1</td>\n",
       "      <td>0</td>\n",
       "    </tr>\n",
       "  </tbody>\n",
       "</table>\n",
       "</div>"
      ],
      "text/plain": [
       "   churn  credit_score  age  tenure  products_number  credit_card  \\\n",
       "0      1           619   42       2                1            1   \n",
       "1      0           608   41       1                1            0   \n",
       "2      1           502   42       8                3            1   \n",
       "3      0           699   39       1                2            0   \n",
       "4      0           850   43       2                1            1   \n",
       "\n",
       "   active_member  estimated_salary  Female  Male  France  Germany  Spain  \\\n",
       "0              1         101348.88       1     0       1        0      0   \n",
       "1              1         112542.58       1     0       0        0      1   \n",
       "2              0         113931.57       1     0       1        0      0   \n",
       "3              0          93826.63       1     0       1        0      0   \n",
       "4              1          79084.10       1     0       0        0      1   \n",
       "\n",
       "   zero_balance  \n",
       "0             1  \n",
       "1             0  \n",
       "2             0  \n",
       "3             1  \n",
       "4             0  "
      ]
     },
     "execution_count": 57,
     "metadata": {},
     "output_type": "execute_result"
    }
   ],
   "source": [
    "data2.head()"
   ]
  },
  {
   "cell_type": "code",
   "execution_count": 58,
   "id": "cf8979f8-5d32-47fa-8092-bc2ae819af1d",
   "metadata": {},
   "outputs": [
    {
     "data": {
      "text/plain": [
       "churn                 int64\n",
       "credit_score          int64\n",
       "age                   int64\n",
       "tenure                int64\n",
       "products_number       int64\n",
       "credit_card           int64\n",
       "active_member         int64\n",
       "estimated_salary    float64\n",
       "Female                uint8\n",
       "Male                  uint8\n",
       "France                uint8\n",
       "Germany               uint8\n",
       "Spain                 uint8\n",
       "zero_balance          int64\n",
       "dtype: object"
      ]
     },
     "execution_count": 58,
     "metadata": {},
     "output_type": "execute_result"
    }
   ],
   "source": [
    "data2.dtypes"
   ]
  },
  {
   "cell_type": "code",
   "execution_count": 59,
   "id": "190d2312-3b4b-48f6-bc83-9296b6dd00d3",
   "metadata": {},
   "outputs": [
    {
     "name": "stdout",
     "output_type": "stream",
     "text": [
      "                  churn  credit_score   age  tenure  products_number  \\\n",
      "churn              1.00         -0.03  0.29   -0.01            -0.05   \n",
      "credit_score      -0.03          1.00 -0.00    0.00             0.01   \n",
      "age                0.29         -0.00  1.00   -0.01            -0.03   \n",
      "tenure            -0.01          0.00 -0.01    1.00             0.01   \n",
      "products_number   -0.05          0.01 -0.03    0.01             1.00   \n",
      "credit_card       -0.01         -0.01 -0.01    0.02             0.00   \n",
      "active_member     -0.16          0.03  0.09   -0.03             0.01   \n",
      "estimated_salary   0.01         -0.00 -0.01    0.01             0.01   \n",
      "Female             0.11          0.00  0.03   -0.01             0.02   \n",
      "Male              -0.11         -0.00 -0.03    0.01            -0.02   \n",
      "France            -0.10         -0.01 -0.04   -0.00             0.00   \n",
      "Germany            0.17          0.01  0.05   -0.00            -0.01   \n",
      "Spain             -0.05          0.00 -0.00    0.00             0.01   \n",
      "zero_balance      -0.12         -0.01 -0.03    0.02             0.33   \n",
      "\n",
      "                  credit_card  active_member  estimated_salary  Female  Male  \\\n",
      "churn                   -0.01          -0.16              0.01    0.11 -0.11   \n",
      "credit_score            -0.01           0.03             -0.00    0.00 -0.00   \n",
      "age                     -0.01           0.09             -0.01    0.03 -0.03   \n",
      "tenure                   0.02          -0.03              0.01   -0.01  0.01   \n",
      "products_number          0.00           0.01              0.01    0.02 -0.02   \n",
      "credit_card              1.00          -0.01             -0.01   -0.01  0.01   \n",
      "active_member           -0.01           1.00             -0.01   -0.02  0.02   \n",
      "estimated_salary        -0.01          -0.01              1.00    0.01 -0.01   \n",
      "Female                  -0.01          -0.02              0.01    1.00 -1.00   \n",
      "Male                     0.01           0.02             -0.01   -1.00  1.00   \n",
      "France                   0.00           0.00             -0.00   -0.01  0.01   \n",
      "Germany                  0.01          -0.02              0.01    0.02 -0.02   \n",
      "Spain                   -0.01           0.02             -0.01   -0.02  0.02   \n",
      "zero_balance             0.02           0.00             -0.01    0.00 -0.00   \n",
      "\n",
      "                  France  Germany  Spain  zero_balance  \n",
      "churn              -0.10     0.17  -0.05         -0.12  \n",
      "credit_score       -0.01     0.01   0.00         -0.01  \n",
      "age                -0.04     0.05  -0.00         -0.03  \n",
      "tenure             -0.00    -0.00   0.00          0.02  \n",
      "products_number     0.00    -0.01   0.01          0.33  \n",
      "credit_card         0.00     0.01  -0.01          0.02  \n",
      "active_member       0.00    -0.02   0.02          0.00  \n",
      "estimated_salary   -0.00     0.01  -0.01         -0.01  \n",
      "Female             -0.01     0.02  -0.02          0.00  \n",
      "Male                0.01    -0.02   0.02         -0.00  \n",
      "France              1.00    -0.58  -0.58          0.25  \n",
      "Germany            -0.58     1.00  -0.33         -0.44  \n",
      "Spain              -0.58    -0.33   1.00          0.15  \n",
      "zero_balance        0.25    -0.44   0.15          1.00  \n"
     ]
    }
   ],
   "source": [
    "corr_matrix = data2.corr().round(2)\n",
    "print(corr_matrix)"
   ]
  },
  {
   "cell_type": "code",
   "execution_count": 60,
   "id": "764886a6-3bba-4a08-a323-b55c6e81b695",
   "metadata": {},
   "outputs": [
    {
     "data": {
      "image/png": "[encoded data removed]",
      "text/plain": [
       "<Figure size 1400x700 with 2 Axes>"
      ]
     },
     "metadata": {},
     "output_type": "display_data"
    }
   ],
   "source": [
    "plt.figure(figsize = (14,7))\n",
    "sns.heatmap(corr_matrix, annot=True)\n",
    "plt.title(label=\"Correlation Matrix\")\n",
    "plt.show()"
   ]
  },
  {
   "cell_type": "code",
   "execution_count": 61,
   "id": "9afaa73a-98aa-4852-81e2-ba16c5c1858e",
   "metadata": {},
   "outputs": [],
   "source": [
    "train, test = train_test_split(data2, test_size=0.2, random_state=4)"
   ]
  },
  {
   "cell_type": "code",
   "execution_count": 62,
   "id": "a6dd3e61-cd81-4682-9503-0342e37d0d38",
   "metadata": {},
   "outputs": [
    {
     "data": {
      "text/plain": [
       "0    6359\n",
       "1    1641\n",
       "Name: churn, dtype: int64"
      ]
     },
     "execution_count": 62,
     "metadata": {},
     "output_type": "execute_result"
    }
   ],
   "source": [
    "train['churn'].value_counts()"
   ]
  },
  {
   "cell_type": "code",
   "execution_count": 63,
   "id": "ff586b06-fe7a-4a2a-b7f4-1d2fa5d79c5c",
   "metadata": {},
   "outputs": [
    {
     "data": {
      "text/plain": [
       "0    1604\n",
       "1     396\n",
       "Name: churn, dtype: int64"
      ]
     },
     "execution_count": 63,
     "metadata": {},
     "output_type": "execute_result"
    }
   ],
   "source": [
    "test['churn'].value_counts()"
   ]
  },
  {
   "cell_type": "code",
   "execution_count": 64,
   "id": "3880a84b-ad3a-4eb2-a011-5f4bcb9378e7",
   "metadata": {},
   "outputs": [],
   "source": [
    "scaler = StandardScaler() #note: need to fix/finish scaling and then re-run Lasso\n",
    "scaled_train = scaler.fit_transform(train)\n",
    "scaled_test = scaler.transform(test)"
   ]
  },
  {
   "cell_type": "code",
   "execution_count": 68,
   "id": "d4682889-b62d-47d4-b98a-bb625adbdf37",
   "metadata": {},
   "outputs": [
    {
     "name": "stdout",
     "output_type": "stream",
     "text": [
      "[[-0.50799552]\n",
      " [-0.50799552]\n",
      " [ 1.96852132]\n",
      " ...\n",
      " [-0.50799552]\n",
      " [-0.50799552]\n",
      " [-0.50799552]]\n"
     ]
    }
   ],
   "source": [
    "print(scaled_train[:,:1])"
   ]
  },
  {
   "cell_type": "code",
   "execution_count": 84,
   "id": "6590dc3f-2129-48d7-8c9b-36bedd479405",
   "metadata": {},
   "outputs": [],
   "source": [
    "lasso = LassoCV(cv=10).fit(scaled_train[:,1:], np.ravel(scaled_train[:,:1]))"
   ]
  },
  {
   "cell_type": "code",
   "execution_count": 85,
   "id": "8a46956e-d64a-4a98-bc4b-b9c2286efce1",
   "metadata": {},
   "outputs": [
    {
     "data": {
      "text/plain": [
       "array([-0.01137566,  0.28490408, -0.01504084, -0.02058922, -0.01079735,\n",
       "       -0.17525433,  0.01024828,  0.0880843 , -0.        , -0.00278647,\n",
       "        0.11875694,  0.        , -0.06049969])"
      ]
     },
     "execution_count": 85,
     "metadata": {},
     "output_type": "execute_result"
    }
   ],
   "source": [
    "lasso.coef_"
   ]
  },
  {
   "cell_type": "code",
   "execution_count": 86,
   "id": "5a2e5940-bbb7-4b7f-840d-27a6197c5280",
   "metadata": {},
   "outputs": [],
   "source": [
    "#coeffs identified as important via Lasso: all except Female and Germany"
   ]
  },
  {
   "cell_type": "code",
   "execution_count": 87,
   "id": "8ee3c3f5-c647-4e4d-9aa5-afc71fb6bb6a",
   "metadata": {},
   "outputs": [
    {
     "data": {
      "text/plain": [
       "0.0017375557653642288"
      ]
     },
     "execution_count": 87,
     "metadata": {},
     "output_type": "execute_result"
    }
   ],
   "source": [
    "lasso.alpha_"
   ]
  },
  {
   "cell_type": "code",
   "execution_count": null,
   "id": "d9b16e72-0cab-404c-91ec-8d8636fd8f05",
   "metadata": {},
   "outputs": [],
   "source": []
  }
 ],
 "metadata": {
  "kernelspec": {
   "display_name": "Python 3 (ipykernel)",
   "language": "python",
   "name": "python3"
  },
  "language_info": {
   "codemirror_mode": {
    "name": "ipython",
    "version": 3
   },
   "file_extension": ".py",
   "mimetype": "text/x-python",
   "name": "python",
   "nbconvert_exporter": "python",
   "pygments_lexer": "ipython3",
   "version": "3.8.10"
  }
 },
 "nbformat": 4,
 "nbformat_minor": 5
}
