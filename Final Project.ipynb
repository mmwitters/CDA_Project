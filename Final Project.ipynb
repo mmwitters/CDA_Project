{
 "cells": [
  {
   "cell_type": "markdown",
   "id": "9f14489c-7f06-4a77-8b38-f0a9ee01a84e",
   "metadata": {},
   "source": [
    "## Team Member Names: Madeline Witters {-}"
   ]
  },
  {
   "cell_type": "markdown",
   "id": "7982a8bb-133d-46a8-ac42-92f8b083a284",
   "metadata": {},
   "source": [
    "## Project Title: Predicting Customer Churn and Identifying Attributes of At-Risk Customers {-}"
   ]
  },
  {
   "cell_type": "markdown",
   "id": "c97e6b8b-89cc-495c-90ab-5b186062e3f7",
   "metadata": {},
   "source": [
    "**Exploratory Data Analysis**"
   ]
  },
  {
   "cell_type": "code",
   "execution_count": null,
   "id": "1014cc4c-d2b5-468b-82db-3fa7f99d6ac1",
   "metadata": {},
   "outputs": [],
   "source": [
    "import pandas as pd\n",
    "import seaborn as sns\n",
    "import numpy as np\n",
    "import matplotlib.pyplot as plt\n",
    "from sklearn.model_selection import train_test_split\n",
    "from sklearn.linear_model import LassoCV\n",
    "from sklearn.preprocessing import StandardScaler"
   ]
  },
  {
   "cell_type": "code",
   "execution_count": null,
   "id": "92f1390c-fe92-4018-8ec0-7f773fceaf49",
   "metadata": {},
   "outputs": [],
   "source": [
    "data = pd.read_csv(\"Bank Customer Churn Prediction.csv\")\n",
    "data = data.drop(\"customer_id\", axis=1)\n",
    "data.head()"
   ]
  },
  {
   "cell_type": "code",
   "execution_count": null,
   "id": "54161307-ac67-4643-b6a4-444dd6262fd8",
   "metadata": {},
   "outputs": [],
   "source": [
    "data.dtypes"
   ]
  },
  {
   "cell_type": "code",
   "execution_count": null,
   "id": "98cb05c0-9dc8-4d75-b56c-e8254a56448a",
   "metadata": {},
   "outputs": [],
   "source": [
    "#EDA to do list: \n",
    "# drop customer_id column DONE\n",
    "# check for missing data DONE\n",
    "# create boxplots for categorical variables DONE\n",
    "# create density plots/histograms for quantitative vars DONE\n",
    "#One Hot encoding: gender, country, Balance DONE\n",
    "\n",
    "#info on why it's best to not do too much one-hot encoding for trees: \n",
    "#https://towardsdatascience.com/one-hot-encoding-is-making-your-tree-based-ensembles-worse-heres-why-d64b282b5769\n",
    "\n",
    "#11/17 TO DO LIST: \n",
    "\n",
    "#outlier removal (do before standardization): \n",
    "#https://medium.com/geekculture/essential-guide-to-handle-outliers-for-your-logistic-regression-model-63c97690a84d\n",
    "\n",
    "#check for multicollinearity: corr plot? REVISE: create ONLY for numeric vars; remove categorical vars (remove gender, country, active, cc)\n",
    "\n",
    "#create mosaic plots for categorical vars\n",
    "\n",
    "#create additional boxplots for numerical vars ?\n",
    "\n",
    "#split into train/test DONE\n",
    "\n",
    "#standardize data DONE\n",
    "\n",
    "#Lasso variable selection DONE (conduct research on what vars to include: perhaps simply include all for now ?)\n",
    "\n",
    "#Create Logistic regression model\n",
    "\n",
    "#Create RF model\n",
    "#   -identify most important vars in RF"
   ]
  },
  {
   "cell_type": "code",
   "execution_count": null,
   "id": "b00f0fbb-ad69-4ff4-851a-cec07b522fd8",
   "metadata": {},
   "outputs": [],
   "source": [
    "null_check = data.isnull().any() #no missing data in the dataframe\n",
    "null_check"
   ]
  },
  {
   "cell_type": "code",
   "execution_count": null,
   "id": "ce7b1d15-2534-4f9b-8ece-b51edb5a9887",
   "metadata": {},
   "outputs": [],
   "source": [
    "#data.min()"
   ]
  },
  {
   "cell_type": "code",
   "execution_count": null,
   "id": "72403e21-f902-4333-aebd-b22d358851ac",
   "metadata": {},
   "outputs": [],
   "source": [
    "#data.max()"
   ]
  },
  {
   "cell_type": "code",
   "execution_count": null,
   "id": "9b244b72-a8d9-4dc2-9c01-66c471390847",
   "metadata": {},
   "outputs": [],
   "source": [
    "plt.figure(figsize=(20,20))\n",
    "#plt.title(\"Boxplots of Numeric Dependent Variables\") try to add in tile later ?\n",
    "\n",
    "plt.subplot(3,2,1)\n",
    "sns.boxplot(x='churn', y='credit_score', data=data)\n",
    "\n",
    "plt.subplot(3,2,2)\n",
    "sns.boxplot(x='churn', y='age', data=data)\n",
    "\n",
    "plt.subplot(3,2,3)\n",
    "sns.boxplot(x='churn', y='tenure', data=data)\n",
    "\n",
    "plt.subplot(3,2,4)\n",
    "sns.boxplot(x='churn', y='balance', data=data)\n",
    "\n",
    "plt.subplot(3,2,5)\n",
    "sns.boxplot(x='churn', y='products_number', data=data)\n",
    "\n",
    "plt.subplot(3,2,6)\n",
    "sns.boxplot(x='churn', y='estimated_salary', data=data)"
   ]
  },
  {
   "cell_type": "code",
   "execution_count": null,
   "id": "a5b50cc7-1e32-4f6e-b351-5019d046aceb",
   "metadata": {},
   "outputs": [],
   "source": [
    "sns.histplot(data=data, x=\"balance\", kde=True)"
   ]
  },
  {
   "cell_type": "code",
   "execution_count": null,
   "id": "506844fe-fc36-4f30-849a-c324de9b17fc",
   "metadata": {},
   "outputs": [],
   "source": [
    "data['churn'].value_counts()"
   ]
  },
  {
   "cell_type": "code",
   "execution_count": null,
   "id": "4a884b89-fa2e-4d19-a51c-8abf5d4551c4",
   "metadata": {},
   "outputs": [],
   "source": [
    "g_one_hot = pd.get_dummies(data['gender'])\n",
    "g_one_hot.head()"
   ]
  },
  {
   "cell_type": "code",
   "execution_count": null,
   "id": "50998903-6868-43d5-9da2-d931aced9574",
   "metadata": {},
   "outputs": [],
   "source": [
    "data = data.drop('gender',axis = 1)\n",
    "# Join the encoded df\n",
    "data = data.join(g_one_hot)\n",
    "data.head()"
   ]
  },
  {
   "cell_type": "code",
   "execution_count": null,
   "id": "2018eb9b-3272-41b8-be08-921dd8a77462",
   "metadata": {},
   "outputs": [],
   "source": [
    "c_one_hot = pd.get_dummies(data['country'])\n",
    "#c_one_hot.head()"
   ]
  },
  {
   "cell_type": "code",
   "execution_count": null,
   "id": "9ce3e864-3e5a-4bbe-89e5-043f87892922",
   "metadata": {},
   "outputs": [],
   "source": [
    "data2 = data.drop('country',axis = 1)\n",
    "data2 = data2.join(c_one_hot)\n",
    "#data2.head()"
   ]
  },
  {
   "cell_type": "code",
   "execution_count": null,
   "id": "b9ac4579-5be4-4dbb-8aef-1a9bb5ec4cd2",
   "metadata": {},
   "outputs": [],
   "source": [
    "data2['zero_balance'] = np.where(data2['balance'] == 0.0, 1, 0) #leave this for later on! "
   ]
  },
  {
   "cell_type": "code",
   "execution_count": null,
   "id": "e8356f23-64b3-48be-92b1-dc25e4e2ab50",
   "metadata": {},
   "outputs": [],
   "source": [
    "#data2.head()"
   ]
  },
  {
   "cell_type": "code",
   "execution_count": null,
   "id": "a36a2e21-20de-4423-bb56-db2f1ced2547",
   "metadata": {},
   "outputs": [],
   "source": [
    "data2 = data2.drop('balance',axis = 1)"
   ]
  },
  {
   "cell_type": "code",
   "execution_count": null,
   "id": "048690a6-dc01-45f3-882e-3689b95d76ab",
   "metadata": {},
   "outputs": [],
   "source": [
    "first_column = data2.pop('churn')\n",
    "data2.insert(0, 'churn', first_column)"
   ]
  },
  {
   "cell_type": "code",
   "execution_count": null,
   "id": "d2795a35-b7bc-4bff-b87f-9c2bee2a7d22",
   "metadata": {},
   "outputs": [],
   "source": [
    "data2.head()"
   ]
  },
  {
   "cell_type": "code",
   "execution_count": null,
   "id": "cf8979f8-5d32-47fa-8092-bc2ae819af1d",
   "metadata": {},
   "outputs": [],
   "source": [
    "data2.dtypes"
   ]
  },
  {
   "cell_type": "code",
   "execution_count": null,
   "id": "49b4272e-76ed-4a86-8417-3941f3491831",
   "metadata": {},
   "outputs": [],
   "source": [
    "numeric_vars = data2[['churn', 'credit_score', 'age', 'tenure','products_number', 'estimated_salary']]"
   ]
  },
  {
   "cell_type": "code",
   "execution_count": null,
   "id": "190d2312-3b4b-48f6-bc83-9296b6dd00d3",
   "metadata": {},
   "outputs": [],
   "source": [
    "corr_matrix = numeric_vars.corr().round(2)\n",
    "print(corr_matrix)"
   ]
  },
  {
   "cell_type": "code",
   "execution_count": null,
   "id": "764886a6-3bba-4a08-a323-b55c6e81b695",
   "metadata": {},
   "outputs": [],
   "source": [
    "plt.figure(figsize = (14,7))\n",
    "sns.heatmap(corr_matrix, annot=True, cmap='Blues')\n",
    "plt.title(label=\"Correlation Matrix for Numeric Variables\")\n",
    "plt.show()"
   ]
  },
  {
   "cell_type": "markdown",
   "id": "40c6ff56-b54a-44c0-a47d-d2aab2c0775d",
   "metadata": {},
   "source": [
    "**Variable Selection**"
   ]
  },
  {
   "cell_type": "code",
   "execution_count": null,
   "id": "5bacde64-d258-4e4a-bcee-822c20730691",
   "metadata": {},
   "outputs": [],
   "source": [
    "data2.head()"
   ]
  },
  {
   "cell_type": "code",
   "execution_count": null,
   "id": "9afaa73a-98aa-4852-81e2-ba16c5c1858e",
   "metadata": {},
   "outputs": [],
   "source": [
    "train, test = train_test_split(data2, test_size=0.2, random_state=4)"
   ]
  },
  {
   "cell_type": "code",
   "execution_count": null,
   "id": "a6dd3e61-cd81-4682-9503-0342e37d0d38",
   "metadata": {},
   "outputs": [],
   "source": [
    "train['churn'].value_counts()"
   ]
  },
  {
   "cell_type": "code",
   "execution_count": null,
   "id": "ff586b06-fe7a-4a2a-b7f4-1d2fa5d79c5c",
   "metadata": {},
   "outputs": [],
   "source": [
    "test['churn'].value_counts()"
   ]
  },
  {
   "cell_type": "code",
   "execution_count": null,
   "id": "3880a84b-ad3a-4eb2-a011-5f4bcb9378e7",
   "metadata": {},
   "outputs": [],
   "source": [
    "scaler = StandardScaler() #note: need to fix/finish scaling and then re-run Lasso\n",
    "scaled_train = scaler.fit_transform(train)\n",
    "scaled_test = scaler.transform(test)"
   ]
  },
  {
   "cell_type": "code",
   "execution_count": null,
   "id": "d4682889-b62d-47d4-b98a-bb625adbdf37",
   "metadata": {},
   "outputs": [],
   "source": [
    "print(scaled_train[:,:1])"
   ]
  },
  {
   "cell_type": "code",
   "execution_count": null,
   "id": "6590dc3f-2129-48d7-8c9b-36bedd479405",
   "metadata": {},
   "outputs": [],
   "source": [
    "lasso = LassoCV(cv=10).fit(scaled_train[:,1:], np.ravel(scaled_train[:,:1]))"
   ]
  },
  {
   "cell_type": "code",
   "execution_count": null,
   "id": "8a46956e-d64a-4a98-bc4b-b9c2286efce1",
   "metadata": {},
   "outputs": [],
   "source": [
    "lasso.coef_"
   ]
  },
  {
   "cell_type": "code",
   "execution_count": null,
   "id": "5a2e5940-bbb7-4b7f-840d-27a6197c5280",
   "metadata": {},
   "outputs": [],
   "source": [
    "#coeffs identified as important via Lasso: all except Spain? but all very small.\n",
    "#note different result when balance is categorical"
   ]
  },
  {
   "cell_type": "code",
   "execution_count": null,
   "id": "8ee3c3f5-c647-4e4d-9aa5-afc71fb6bb6a",
   "metadata": {},
   "outputs": [],
   "source": [
    "lasso.alpha_"
   ]
  },
  {
   "cell_type": "code",
   "execution_count": null,
   "id": "d9b16e72-0cab-404c-91ec-8d8636fd8f05",
   "metadata": {},
   "outputs": [],
   "source": [
    "#https://www.datacamp.com/tutorial/tutorial-lasso-ridge-regression"
   ]
  },
  {
   "cell_type": "code",
   "execution_count": null,
   "id": "d313dd5f-a994-4533-a8c1-bdfd29cf4e11",
   "metadata": {},
   "outputs": [],
   "source": []
  }
 ],
 "metadata": {
  "kernelspec": {
   "display_name": "Python 3 (ipykernel)",
   "language": "python",
   "name": "python3"
  },
  "language_info": {
   "codemirror_mode": {
    "name": "ipython",
    "version": 3
   },
   "file_extension": ".py",
   "mimetype": "text/x-python",
   "name": "python",
   "nbconvert_exporter": "python",
   "pygments_lexer": "ipython3",
   "version": "3.8.10"
  }
 },
 "nbformat": 4,
 "nbformat_minor": 5
}
