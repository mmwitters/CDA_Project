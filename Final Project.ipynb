{
 "cells": [
  {
   "cell_type": "markdown",
   "id": "9f14489c-7f06-4a77-8b38-f0a9ee01a84e",
   "metadata": {},
   "source": [
    "## Team Member Names: Madeline Witters {-}"
   ]
  },
  {
   "cell_type": "markdown",
   "id": "7982a8bb-133d-46a8-ac42-92f8b083a284",
   "metadata": {},
   "source": [
    "## Project Title: Predicting Customer Churn and Identifying Attributes of At-Risk Customers {-}"
   ]
  },
  {
   "cell_type": "markdown",
   "id": "c97e6b8b-89cc-495c-90ab-5b186062e3f7",
   "metadata": {},
   "source": [
    "**Exploratory Data Analysis**"
   ]
  },
  {
   "cell_type": "code",
   "execution_count": 1,
   "id": "1014cc4c-d2b5-468b-82db-3fa7f99d6ac1",
   "metadata": {},
   "outputs": [],
   "source": [
    "import pandas as pd\n",
    "import seaborn as sns\n",
    "import numpy as np\n",
    "import matplotlib.pyplot as plt\n",
    "from sklearn.model_selection import train_test_split\n",
    "from sklearn.linear_model import LassoCV\n",
    "from sklearn.preprocessing import StandardScaler\n",
    "from statsmodels.graphics.mosaicplot import mosaic\n",
    "from sklearn.linear_model import LogisticRegressionCV\n",
    "from scipy import stats\n",
    "from sklearn.linear_model import LogisticRegression\n",
    "from sklearn.metrics import precision_recall_curve\n",
    "from sklearn.metrics import auc\n",
    "from sklearn.metrics import roc_curve\n",
    "from sklearn.metrics import accuracy_score\n",
    "from sklearn.metrics import confusion_matrix\n",
    "from sklearn.metrics import classification_report\n",
    "from sklearn.metrics import roc_auc_score\n",
    "from sklearn.ensemble import RandomForestClassifier\n",
    "from sklearn.metrics import RocCurveDisplay"
   ]
  },
  {
   "cell_type": "code",
   "execution_count": 2,
   "id": "92f1390c-fe92-4018-8ec0-7f773fceaf49",
   "metadata": {},
   "outputs": [
    {
     "data": {
      "text/html": [
       "<div>\n",
       "<style scoped>\n",
       "    .dataframe tbody tr th:only-of-type {\n",
       "        vertical-align: middle;\n",
       "    }\n",
       "\n",
       "    .dataframe tbody tr th {\n",
       "        vertical-align: top;\n",
       "    }\n",
       "\n",
       "    .dataframe thead th {\n",
       "        text-align: right;\n",
       "    }\n",
       "</style>\n",
       "<table border=\"1\" class=\"dataframe\">\n",
       "  <thead>\n",
       "    <tr style=\"text-align: right;\">\n",
       "      <th></th>\n",
       "      <th>credit_score</th>\n",
       "      <th>country</th>\n",
       "      <th>gender</th>\n",
       "      <th>age</th>\n",
       "      <th>tenure</th>\n",
       "      <th>balance</th>\n",
       "      <th>products_number</th>\n",
       "      <th>credit_card</th>\n",
       "      <th>active_member</th>\n",
       "      <th>estimated_salary</th>\n",
       "      <th>churn</th>\n",
       "    </tr>\n",
       "  </thead>\n",
       "  <tbody>\n",
       "    <tr>\n",
       "      <th>0</th>\n",
       "      <td>619</td>\n",
       "      <td>France</td>\n",
       "      <td>Female</td>\n",
       "      <td>42</td>\n",
       "      <td>2</td>\n",
       "      <td>0.00</td>\n",
       "      <td>1</td>\n",
       "      <td>1</td>\n",
       "      <td>1</td>\n",
       "      <td>101348.88</td>\n",
       "      <td>1</td>\n",
       "    </tr>\n",
       "    <tr>\n",
       "      <th>1</th>\n",
       "      <td>608</td>\n",
       "      <td>Spain</td>\n",
       "      <td>Female</td>\n",
       "      <td>41</td>\n",
       "      <td>1</td>\n",
       "      <td>83807.86</td>\n",
       "      <td>1</td>\n",
       "      <td>0</td>\n",
       "      <td>1</td>\n",
       "      <td>112542.58</td>\n",
       "      <td>0</td>\n",
       "    </tr>\n",
       "    <tr>\n",
       "      <th>2</th>\n",
       "      <td>502</td>\n",
       "      <td>France</td>\n",
       "      <td>Female</td>\n",
       "      <td>42</td>\n",
       "      <td>8</td>\n",
       "      <td>159660.80</td>\n",
       "      <td>3</td>\n",
       "      <td>1</td>\n",
       "      <td>0</td>\n",
       "      <td>113931.57</td>\n",
       "      <td>1</td>\n",
       "    </tr>\n",
       "    <tr>\n",
       "      <th>3</th>\n",
       "      <td>699</td>\n",
       "      <td>France</td>\n",
       "      <td>Female</td>\n",
       "      <td>39</td>\n",
       "      <td>1</td>\n",
       "      <td>0.00</td>\n",
       "      <td>2</td>\n",
       "      <td>0</td>\n",
       "      <td>0</td>\n",
       "      <td>93826.63</td>\n",
       "      <td>0</td>\n",
       "    </tr>\n",
       "    <tr>\n",
       "      <th>4</th>\n",
       "      <td>850</td>\n",
       "      <td>Spain</td>\n",
       "      <td>Female</td>\n",
       "      <td>43</td>\n",
       "      <td>2</td>\n",
       "      <td>125510.82</td>\n",
       "      <td>1</td>\n",
       "      <td>1</td>\n",
       "      <td>1</td>\n",
       "      <td>79084.10</td>\n",
       "      <td>0</td>\n",
       "    </tr>\n",
       "  </tbody>\n",
       "</table>\n",
       "</div>"
      ],
      "text/plain": [
       "   credit_score country  gender  age  tenure    balance  products_number  \\\n",
       "0           619  France  Female   42       2       0.00                1   \n",
       "1           608   Spain  Female   41       1   83807.86                1   \n",
       "2           502  France  Female   42       8  159660.80                3   \n",
       "3           699  France  Female   39       1       0.00                2   \n",
       "4           850   Spain  Female   43       2  125510.82                1   \n",
       "\n",
       "   credit_card  active_member  estimated_salary  churn  \n",
       "0            1              1         101348.88      1  \n",
       "1            0              1         112542.58      0  \n",
       "2            1              0         113931.57      1  \n",
       "3            0              0          93826.63      0  \n",
       "4            1              1          79084.10      0  "
      ]
     },
     "execution_count": 2,
     "metadata": {},
     "output_type": "execute_result"
    }
   ],
   "source": [
    "data = pd.read_csv(\"Bank Customer Churn Prediction.csv\")\n",
    "data = data.drop(\"customer_id\", axis=1)\n",
    "data.head()"
   ]
  },
  {
   "cell_type": "code",
   "execution_count": 3,
   "id": "54161307-ac67-4643-b6a4-444dd6262fd8",
   "metadata": {},
   "outputs": [
    {
     "data": {
      "text/plain": [
       "credit_score          int64\n",
       "country              object\n",
       "gender               object\n",
       "age                   int64\n",
       "tenure                int64\n",
       "balance             float64\n",
       "products_number       int64\n",
       "credit_card           int64\n",
       "active_member         int64\n",
       "estimated_salary    float64\n",
       "churn                 int64\n",
       "dtype: object"
      ]
     },
     "execution_count": 3,
     "metadata": {},
     "output_type": "execute_result"
    }
   ],
   "source": [
    "data.dtypes"
   ]
  },
  {
   "cell_type": "code",
   "execution_count": 4,
   "id": "98cb05c0-9dc8-4d75-b56c-e8254a56448a",
   "metadata": {},
   "outputs": [],
   "source": [
    "#EDA to do list: \n",
    "# drop customer_id column DONE\n",
    "# check for missing data DONE\n",
    "# create boxplots for categorical variables DONE\n",
    "# create density plots/histograms for quantitative vars DONE\n",
    "#One Hot encoding: gender, country, Balance DONE\n",
    "\n",
    "#info on why it's best to not do too much one-hot encoding for trees: \n",
    "#https://towardsdatascience.com/one-hot-encoding-is-making-your-tree-based-ensembles-worse-heres-why-d64b282b5769\n",
    "\n",
    "#11/17 TO DO LIST: \n",
    "\n",
    "#outlier removal (do before standardization): \n",
    "#https://medium.com/geekculture/essential-guide-to-handle-outliers-for-your-logistic-regression-model-63c97690a84d\n",
    "\n",
    "#check for multicollinearity: corr plot? DONE\n",
    "\n",
    "#create mosaic plots for categorical vars created bar plots -- need to create mosaic plots\n",
    "\n",
    "#create additional boxplots for numerical vars DONE\n",
    "\n",
    "#split into train/test DONE\n",
    "\n",
    "#standardize data DONE\n",
    "\n",
    "#Lasso variable selection DONE (conduct research on what vars to include: perhaps simply include all for now ?)\n",
    "\n",
    "#Create Logistic regression model\n",
    "\n",
    "#Create RF model\n",
    "#   -identify most important vars in RF"
   ]
  },
  {
   "cell_type": "code",
   "execution_count": 5,
   "id": "b00f0fbb-ad69-4ff4-851a-cec07b522fd8",
   "metadata": {},
   "outputs": [
    {
     "data": {
      "text/plain": [
       "credit_score        False\n",
       "country             False\n",
       "gender              False\n",
       "age                 False\n",
       "tenure              False\n",
       "balance             False\n",
       "products_number     False\n",
       "credit_card         False\n",
       "active_member       False\n",
       "estimated_salary    False\n",
       "churn               False\n",
       "dtype: bool"
      ]
     },
     "execution_count": 5,
     "metadata": {},
     "output_type": "execute_result"
    }
   ],
   "source": [
    "null_check = data.isnull().any() #no missing data in the dataframe\n",
    "null_check"
   ]
  },
  {
   "cell_type": "code",
   "execution_count": 6,
   "id": "ce7b1d15-2534-4f9b-8ece-b51edb5a9887",
   "metadata": {},
   "outputs": [],
   "source": [
    "#data.min()"
   ]
  },
  {
   "cell_type": "code",
   "execution_count": 7,
   "id": "72403e21-f902-4333-aebd-b22d358851ac",
   "metadata": {},
   "outputs": [],
   "source": [
    "#data.max()"
   ]
  },
  {
   "cell_type": "code",
   "execution_count": 8,
   "id": "9b244b72-a8d9-4dc2-9c01-66c471390847",
   "metadata": {},
   "outputs": [
    {
     "data": {
      "text/plain": [
       "<AxesSubplot:xlabel='churn', ylabel='estimated_salary'>"
      ]
     },
     "execution_count": 8,
     "metadata": {},
     "output_type": "execute_result"
    },
    {
     "data": {
      "image/png": "[encoded data removed]",
      "text/plain": [
       "<Figure size 2000x2000 with 6 Axes>"
      ]
     },
     "metadata": {},
     "output_type": "display_data"
    }
   ],
   "source": [
    "plt.figure(figsize=(20,20))\n",
    "#plt.title(\"Boxplots of Numeric Dependent Variables\") try to add in tile later ?\n",
    "\n",
    "plt.subplot(3,2,1)\n",
    "sns.boxplot(x='churn', y='credit_score', data=data)\n",
    "\n",
    "plt.subplot(3,2,2)\n",
    "sns.boxplot(x='churn', y='age', data=data)\n",
    "\n",
    "plt.subplot(3,2,3)\n",
    "sns.boxplot(x='churn', y='tenure', data=data)\n",
    "\n",
    "plt.subplot(3,2,4)\n",
    "sns.boxplot(x='churn', y='balance', data=data)\n",
    "\n",
    "plt.subplot(3,2,5)\n",
    "sns.boxplot(x='churn', y='products_number', data=data)\n",
    "\n",
    "plt.subplot(3,2,6)\n",
    "sns.boxplot(x='churn', y='estimated_salary', data=data)"
   ]
  },
  {
   "cell_type": "code",
   "execution_count": 9,
   "id": "a5b50cc7-1e32-4f6e-b351-5019d046aceb",
   "metadata": {},
   "outputs": [
    {
     "data": {
      "text/plain": [
       "<AxesSubplot:xlabel='balance', ylabel='Count'>"
      ]
     },
     "execution_count": 9,
     "metadata": {},
     "output_type": "execute_result"
    },
    {
     "data": {
      "image/png": "[encoded data removed]",
      "text/plain": [
       "<Figure size 640x480 with 1 Axes>"
      ]
     },
     "metadata": {},
     "output_type": "display_data"
    }
   ],
   "source": [
    "sns.histplot(data=data, x=\"balance\", kde=True)"
   ]
  },
  {
   "cell_type": "code",
   "execution_count": 10,
   "id": "8e4742dd-0f8b-4a06-b9fa-eb34c2f2da21",
   "metadata": {},
   "outputs": [
    {
     "data": {
      "text/plain": [
       "<AxesSubplot:xlabel='age', ylabel='Count'>"
      ]
     },
     "execution_count": 10,
     "metadata": {},
     "output_type": "execute_result"
    },
    {
     "data": {
      "image/png": "[encoded data removed]",
      "text/plain": [
       "<Figure size 640x480 with 1 Axes>"
      ]
     },
     "metadata": {},
     "output_type": "display_data"
    }
   ],
   "source": [
    "sns.histplot(data=data, x=\"age\", kde=True)"
   ]
  },
  {
   "cell_type": "code",
   "execution_count": 11,
   "id": "b3a591d8-4cc7-4d92-8bc7-c9a79de35e6e",
   "metadata": {},
   "outputs": [],
   "source": [
    "credit_score_zs = stats.zscore(data['credit_score'])"
   ]
  },
  {
   "cell_type": "code",
   "execution_count": 12,
   "id": "59683091-0bfd-461a-be2b-4d98b85ffb02",
   "metadata": {},
   "outputs": [],
   "source": [
    "age_z = stats.zscore(data['age'])"
   ]
  },
  {
   "cell_type": "code",
   "execution_count": 13,
   "id": "cb78ed21-ce0a-4a5a-8475-17b95860477a",
   "metadata": {},
   "outputs": [
    {
     "name": "stdout",
     "output_type": "stream",
     "text": [
      "0      -1.041760\n",
      "1      -1.387538\n",
      "2       1.032908\n",
      "3      -1.387538\n",
      "4      -1.041760\n",
      "          ...   \n",
      "9995   -0.004426\n",
      "9996    1.724464\n",
      "9997    0.687130\n",
      "9998   -0.695982\n",
      "9999   -0.350204\n",
      "Name: tenure, Length: 10000, dtype: float64\n"
     ]
    }
   ],
   "source": [
    "ten_z = stats.zscore(data['tenure'])\n",
    "print(ten_z)"
   ]
  },
  {
   "cell_type": "code",
   "execution_count": 14,
   "id": "46fa7876-4365-4a3a-bf17-c8d602ef6581",
   "metadata": {},
   "outputs": [
    {
     "name": "stdout",
     "output_type": "stream",
     "text": [
      "0      -1.225848\n",
      "1       0.117350\n",
      "2       1.333053\n",
      "3      -1.225848\n",
      "4       0.785728\n",
      "          ...   \n",
      "9995   -1.225848\n",
      "9996   -0.306379\n",
      "9997   -1.225848\n",
      "9998   -0.022608\n",
      "9999    0.859965\n",
      "Name: balance, Length: 10000, dtype: float64\n"
     ]
    }
   ],
   "source": [
    "bal_z = stats.zscore(data['balance'])\n",
    "print(bal_z)"
   ]
  },
  {
   "cell_type": "code",
   "execution_count": 15,
   "id": "16712894-d2ab-45af-bc90-9dff203a8a19",
   "metadata": {},
   "outputs": [
    {
     "name": "stdout",
     "output_type": "stream",
     "text": [
      "0      -0.911583\n",
      "1      -0.911583\n",
      "2       2.527057\n",
      "3       0.807737\n",
      "4      -0.911583\n",
      "          ...   \n",
      "9995    0.807737\n",
      "9996   -0.911583\n",
      "9997   -0.911583\n",
      "9998    0.807737\n",
      "9999   -0.911583\n",
      "Name: products_number, Length: 10000, dtype: float64\n"
     ]
    }
   ],
   "source": [
    "prod_z = stats.zscore(data['products_number'])\n",
    "print(prod_z)"
   ]
  },
  {
   "cell_type": "code",
   "execution_count": 16,
   "id": "9d9a5e21-a04b-465d-9995-80639228e02d",
   "metadata": {},
   "outputs": [
    {
     "name": "stdout",
     "output_type": "stream",
     "text": [
      "0       0.021886\n",
      "1       0.216534\n",
      "2       0.240687\n",
      "3      -0.108918\n",
      "4      -0.365276\n",
      "          ...   \n",
      "9995   -0.066419\n",
      "9996    0.027988\n",
      "9997   -1.008643\n",
      "9998   -0.125231\n",
      "9999   -1.076370\n",
      "Name: estimated_salary, Length: 10000, dtype: float64\n"
     ]
    }
   ],
   "source": [
    "sal_z = stats.zscore(data['estimated_salary'])\n",
    "print(sal_z)"
   ]
  },
  {
   "cell_type": "code",
   "execution_count": 17,
   "id": "2ef1c534-fa91-4a1c-b346-b42119bcd466",
   "metadata": {},
   "outputs": [],
   "source": [
    "threshold = 3\n",
    "outlier = [] #write in report about how I conducted outlier analysis, and why I decided not to exclude any points\n",
    "for z in age_z: #further address how this could be modeled in the future (segment customers by age, products number) + build more models\n",
    "    if z > threshold: #this could be addressed in conclusion or EDA section\n",
    "        outlier.append(z)\n",
    "#print('outlier in dataset is', outlier)\n",
    "#print(len(outlier))"
   ]
  },
  {
   "cell_type": "code",
   "execution_count": 18,
   "id": "506844fe-fc36-4f30-849a-c324de9b17fc",
   "metadata": {},
   "outputs": [
    {
     "data": {
      "text/plain": [
       "0    7963\n",
       "1    2037\n",
       "Name: churn, dtype: int64"
      ]
     },
     "execution_count": 18,
     "metadata": {},
     "output_type": "execute_result"
    }
   ],
   "source": [
    "data['churn'].value_counts()"
   ]
  },
  {
   "cell_type": "code",
   "execution_count": 19,
   "id": "381703ed-9568-4cfe-8ff2-c9bfbe275827",
   "metadata": {},
   "outputs": [
    {
     "data": {
      "text/plain": [
       "<AxesSubplot:xlabel='active_member', ylabel='count'>"
      ]
     },
     "execution_count": 19,
     "metadata": {},
     "output_type": "execute_result"
    },
    {
     "data": {
      "image/png": "[encoded data removed]",
      "text/plain": [
       "<Figure size 2000x2000 with 4 Axes>"
      ]
     },
     "metadata": {},
     "output_type": "display_data"
    }
   ],
   "source": [
    "plt.figure(figsize=(20,20))\n",
    "#plt.title(\"Boxplots of Numeric Dependent Variables\") try to add in tile later ?\n",
    "\n",
    "plt.subplot(3,2,1)\n",
    "sns.countplot(data=data, x=\"country\", hue=\"churn\")\n",
    "\n",
    "plt.subplot(3,2,2)\n",
    "sns.countplot(data=data, x=\"gender\", hue=\"churn\")\n",
    "\n",
    "plt.subplot(3,2,3)\n",
    "sns.countplot(data=data, x=\"credit_card\", hue=\"churn\")\n",
    "\n",
    "plt.subplot(3,2,4)\n",
    "sns.countplot(data=data, x=\"active_member\", hue=\"churn\")"
   ]
  },
  {
   "cell_type": "code",
   "execution_count": 20,
   "id": "f053fe03-45ac-476d-bbb9-75290515db09",
   "metadata": {},
   "outputs": [
    {
     "data": {
      "text/html": [
       "<div>\n",
       "<style scoped>\n",
       "    .dataframe tbody tr th:only-of-type {\n",
       "        vertical-align: middle;\n",
       "    }\n",
       "\n",
       "    .dataframe tbody tr th {\n",
       "        vertical-align: top;\n",
       "    }\n",
       "\n",
       "    .dataframe thead th {\n",
       "        text-align: right;\n",
       "    }\n",
       "</style>\n",
       "<table border=\"1\" class=\"dataframe\">\n",
       "  <thead>\n",
       "    <tr style=\"text-align: right;\">\n",
       "      <th>gender</th>\n",
       "      <th>Female</th>\n",
       "      <th>Male</th>\n",
       "    </tr>\n",
       "    <tr>\n",
       "      <th>churn</th>\n",
       "      <th></th>\n",
       "      <th></th>\n",
       "    </tr>\n",
       "  </thead>\n",
       "  <tbody>\n",
       "    <tr>\n",
       "      <th>0</th>\n",
       "      <td>3404</td>\n",
       "      <td>4559</td>\n",
       "    </tr>\n",
       "    <tr>\n",
       "      <th>1</th>\n",
       "      <td>1139</td>\n",
       "      <td>898</td>\n",
       "    </tr>\n",
       "  </tbody>\n",
       "</table>\n",
       "</div>"
      ],
      "text/plain": [
       "gender  Female  Male\n",
       "churn               \n",
       "0         3404  4559\n",
       "1         1139   898"
      ]
     },
     "execution_count": 20,
     "metadata": {},
     "output_type": "execute_result"
    }
   ],
   "source": [
    "crosstable = pd.crosstab(data['churn'], data['gender'])\n",
    "crosstable"
   ]
  },
  {
   "cell_type": "code",
   "execution_count": 21,
   "id": "ea60c69a-76fc-481d-8f5d-7a6c0282f597",
   "metadata": {},
   "outputs": [
    {
     "data": {
      "text/plain": [
       "(<Figure size 640x480 with 3 Axes>,\n",
       " {('1', '1'): (0.0, 0.0, 0.5125373134328359, 0.14221668404870583),\n",
       "  ('1', '0'): (0.0,\n",
       "   0.14553894318491845,\n",
       "   0.5125373134328359,\n",
       "   0.8544610568150816),\n",
       "  ('0', '1'): (0.5175124378109454,\n",
       "   0.0,\n",
       "   0.48248756218905475,\n",
       "   0.2676169145400394),\n",
       "  ('0', '0'): (0.5175124378109454,\n",
       "   0.27093917367625203,\n",
       "   0.48248756218905475,\n",
       "   0.7290608263237479)})"
      ]
     },
     "execution_count": 21,
     "metadata": {},
     "output_type": "execute_result"
    },
    {
     "data": {
      "image/png": "[encoded data removed]",
      "text/plain": [
       "<Figure size 640x480 with 3 Axes>"
      ]
     },
     "metadata": {},
     "output_type": "display_data"
    },
    {
     "data": {
      "image/png": "[encoded data removed]",
      "text/plain": [
       "<Figure size 640x480 with 3 Axes>"
      ]
     },
     "metadata": {},
     "output_type": "display_data"
    },
    {
     "data": {
      "image/png": "[encoded data removed]",
      "text/plain": [
       "<Figure size 640x480 with 3 Axes>"
      ]
     },
     "metadata": {},
     "output_type": "display_data"
    },
    {
     "data": {
      "image/png": "[encoded data removed]",
      "text/plain": [
       "<Figure size 640x480 with 3 Axes>"
      ]
     },
     "metadata": {},
     "output_type": "display_data"
    }
   ],
   "source": [
    "mosaic(data, ['country', 'churn'], title=\"Country by Churn\")\n",
    "mosaic(data, ['gender', 'churn'], title=\"Gender by Churn\")\n",
    "labelizer = lambda k: {('0','0'): 'no credit_card', ('0','1'): 'no credit_card', ('1','0'): 'credit_card',('1','1'): 'credit_card'}[k]\n",
    "mosaic(data, ['credit_card', 'churn'], labelizer =labelizer, title=\"Credit Card by Churn\")\n",
    "labels = lambda k: {('0','0'): 'non-active member', ('0','1'): 'non-active member', ('1','0'): 'active_member',('1','1'): 'active_member'}[k]\n",
    "mosaic(data, ['active_member', 'churn'], labelizer=labels, title=\"Active Member by Churn\")"
   ]
  },
  {
   "cell_type": "code",
   "execution_count": 22,
   "id": "4a884b89-fa2e-4d19-a51c-8abf5d4551c4",
   "metadata": {},
   "outputs": [
    {
     "data": {
      "text/html": [
       "<div>\n",
       "<style scoped>\n",
       "    .dataframe tbody tr th:only-of-type {\n",
       "        vertical-align: middle;\n",
       "    }\n",
       "\n",
       "    .dataframe tbody tr th {\n",
       "        vertical-align: top;\n",
       "    }\n",
       "\n",
       "    .dataframe thead th {\n",
       "        text-align: right;\n",
       "    }\n",
       "</style>\n",
       "<table border=\"1\" class=\"dataframe\">\n",
       "  <thead>\n",
       "    <tr style=\"text-align: right;\">\n",
       "      <th></th>\n",
       "      <th>Female</th>\n",
       "      <th>Male</th>\n",
       "    </tr>\n",
       "  </thead>\n",
       "  <tbody>\n",
       "    <tr>\n",
       "      <th>0</th>\n",
       "      <td>1</td>\n",
       "      <td>0</td>\n",
       "    </tr>\n",
       "    <tr>\n",
       "      <th>1</th>\n",
       "      <td>1</td>\n",
       "      <td>0</td>\n",
       "    </tr>\n",
       "    <tr>\n",
       "      <th>2</th>\n",
       "      <td>1</td>\n",
       "      <td>0</td>\n",
       "    </tr>\n",
       "    <tr>\n",
       "      <th>3</th>\n",
       "      <td>1</td>\n",
       "      <td>0</td>\n",
       "    </tr>\n",
       "    <tr>\n",
       "      <th>4</th>\n",
       "      <td>1</td>\n",
       "      <td>0</td>\n",
       "    </tr>\n",
       "  </tbody>\n",
       "</table>\n",
       "</div>"
      ],
      "text/plain": [
       "   Female  Male\n",
       "0       1     0\n",
       "1       1     0\n",
       "2       1     0\n",
       "3       1     0\n",
       "4       1     0"
      ]
     },
     "execution_count": 22,
     "metadata": {},
     "output_type": "execute_result"
    }
   ],
   "source": [
    "g_one_hot = pd.get_dummies(data['gender'])\n",
    "g_one_hot.head()"
   ]
  },
  {
   "cell_type": "code",
   "execution_count": 23,
   "id": "50998903-6868-43d5-9da2-d931aced9574",
   "metadata": {},
   "outputs": [
    {
     "data": {
      "text/html": [
       "<div>\n",
       "<style scoped>\n",
       "    .dataframe tbody tr th:only-of-type {\n",
       "        vertical-align: middle;\n",
       "    }\n",
       "\n",
       "    .dataframe tbody tr th {\n",
       "        vertical-align: top;\n",
       "    }\n",
       "\n",
       "    .dataframe thead th {\n",
       "        text-align: right;\n",
       "    }\n",
       "</style>\n",
       "<table border=\"1\" class=\"dataframe\">\n",
       "  <thead>\n",
       "    <tr style=\"text-align: right;\">\n",
       "      <th></th>\n",
       "      <th>credit_score</th>\n",
       "      <th>country</th>\n",
       "      <th>age</th>\n",
       "      <th>tenure</th>\n",
       "      <th>balance</th>\n",
       "      <th>products_number</th>\n",
       "      <th>credit_card</th>\n",
       "      <th>active_member</th>\n",
       "      <th>estimated_salary</th>\n",
       "      <th>churn</th>\n",
       "      <th>Female</th>\n",
       "      <th>Male</th>\n",
       "    </tr>\n",
       "  </thead>\n",
       "  <tbody>\n",
       "    <tr>\n",
       "      <th>0</th>\n",
       "      <td>619</td>\n",
       "      <td>France</td>\n",
       "      <td>42</td>\n",
       "      <td>2</td>\n",
       "      <td>0.00</td>\n",
       "      <td>1</td>\n",
       "      <td>1</td>\n",
       "      <td>1</td>\n",
       "      <td>101348.88</td>\n",
       "      <td>1</td>\n",
       "      <td>1</td>\n",
       "      <td>0</td>\n",
       "    </tr>\n",
       "    <tr>\n",
       "      <th>1</th>\n",
       "      <td>608</td>\n",
       "      <td>Spain</td>\n",
       "      <td>41</td>\n",
       "      <td>1</td>\n",
       "      <td>83807.86</td>\n",
       "      <td>1</td>\n",
       "      <td>0</td>\n",
       "      <td>1</td>\n",
       "      <td>112542.58</td>\n",
       "      <td>0</td>\n",
       "      <td>1</td>\n",
       "      <td>0</td>\n",
       "    </tr>\n",
       "    <tr>\n",
       "      <th>2</th>\n",
       "      <td>502</td>\n",
       "      <td>France</td>\n",
       "      <td>42</td>\n",
       "      <td>8</td>\n",
       "      <td>159660.80</td>\n",
       "      <td>3</td>\n",
       "      <td>1</td>\n",
       "      <td>0</td>\n",
       "      <td>113931.57</td>\n",
       "      <td>1</td>\n",
       "      <td>1</td>\n",
       "      <td>0</td>\n",
       "    </tr>\n",
       "    <tr>\n",
       "      <th>3</th>\n",
       "      <td>699</td>\n",
       "      <td>France</td>\n",
       "      <td>39</td>\n",
       "      <td>1</td>\n",
       "      <td>0.00</td>\n",
       "      <td>2</td>\n",
       "      <td>0</td>\n",
       "      <td>0</td>\n",
       "      <td>93826.63</td>\n",
       "      <td>0</td>\n",
       "      <td>1</td>\n",
       "      <td>0</td>\n",
       "    </tr>\n",
       "    <tr>\n",
       "      <th>4</th>\n",
       "      <td>850</td>\n",
       "      <td>Spain</td>\n",
       "      <td>43</td>\n",
       "      <td>2</td>\n",
       "      <td>125510.82</td>\n",
       "      <td>1</td>\n",
       "      <td>1</td>\n",
       "      <td>1</td>\n",
       "      <td>79084.10</td>\n",
       "      <td>0</td>\n",
       "      <td>1</td>\n",
       "      <td>0</td>\n",
       "    </tr>\n",
       "  </tbody>\n",
       "</table>\n",
       "</div>"
      ],
      "text/plain": [
       "   credit_score country  age  tenure    balance  products_number  credit_card  \\\n",
       "0           619  France   42       2       0.00                1            1   \n",
       "1           608   Spain   41       1   83807.86                1            0   \n",
       "2           502  France   42       8  159660.80                3            1   \n",
       "3           699  France   39       1       0.00                2            0   \n",
       "4           850   Spain   43       2  125510.82                1            1   \n",
       "\n",
       "   active_member  estimated_salary  churn  Female  Male  \n",
       "0              1         101348.88      1       1     0  \n",
       "1              1         112542.58      0       1     0  \n",
       "2              0         113931.57      1       1     0  \n",
       "3              0          93826.63      0       1     0  \n",
       "4              1          79084.10      0       1     0  "
      ]
     },
     "execution_count": 23,
     "metadata": {},
     "output_type": "execute_result"
    }
   ],
   "source": [
    "data = data.drop('gender',axis = 1)\n",
    "# Join the encoded df\n",
    "data = data.join(g_one_hot)\n",
    "data.head()"
   ]
  },
  {
   "cell_type": "code",
   "execution_count": 24,
   "id": "2018eb9b-3272-41b8-be08-921dd8a77462",
   "metadata": {},
   "outputs": [],
   "source": [
    "c_one_hot = pd.get_dummies(data['country'])\n",
    "#c_one_hot.head()"
   ]
  },
  {
   "cell_type": "code",
   "execution_count": 25,
   "id": "9ce3e864-3e5a-4bbe-89e5-043f87892922",
   "metadata": {},
   "outputs": [],
   "source": [
    "data2 = data.drop('country',axis = 1)\n",
    "data2 = data2.join(c_one_hot)\n",
    "#data2.head()"
   ]
  },
  {
   "cell_type": "code",
   "execution_count": 26,
   "id": "b9ac4579-5be4-4dbb-8aef-1a9bb5ec4cd2",
   "metadata": {},
   "outputs": [],
   "source": [
    "data2['zero_balance'] = np.where(data2['balance'] == 0.0, 1, 0) #leave this for later on! "
   ]
  },
  {
   "cell_type": "code",
   "execution_count": 27,
   "id": "e8356f23-64b3-48be-92b1-dc25e4e2ab50",
   "metadata": {},
   "outputs": [],
   "source": [
    "#data2.head()"
   ]
  },
  {
   "cell_type": "code",
   "execution_count": 28,
   "id": "a36a2e21-20de-4423-bb56-db2f1ced2547",
   "metadata": {},
   "outputs": [],
   "source": [
    "data2 = data2.drop('balance',axis = 1)"
   ]
  },
  {
   "cell_type": "code",
   "execution_count": 29,
   "id": "048690a6-dc01-45f3-882e-3689b95d76ab",
   "metadata": {},
   "outputs": [],
   "source": [
    "first_column = data2.pop('churn')\n",
    "data2.insert(0, 'churn', first_column)"
   ]
  },
  {
   "cell_type": "code",
   "execution_count": 30,
   "id": "d2795a35-b7bc-4bff-b87f-9c2bee2a7d22",
   "metadata": {},
   "outputs": [
    {
     "data": {
      "text/html": [
       "<div>\n",
       "<style scoped>\n",
       "    .dataframe tbody tr th:only-of-type {\n",
       "        vertical-align: middle;\n",
       "    }\n",
       "\n",
       "    .dataframe tbody tr th {\n",
       "        vertical-align: top;\n",
       "    }\n",
       "\n",
       "    .dataframe thead th {\n",
       "        text-align: right;\n",
       "    }\n",
       "</style>\n",
       "<table border=\"1\" class=\"dataframe\">\n",
       "  <thead>\n",
       "    <tr style=\"text-align: right;\">\n",
       "      <th></th>\n",
       "      <th>churn</th>\n",
       "      <th>credit_score</th>\n",
       "      <th>age</th>\n",
       "      <th>tenure</th>\n",
       "      <th>products_number</th>\n",
       "      <th>credit_card</th>\n",
       "      <th>active_member</th>\n",
       "      <th>estimated_salary</th>\n",
       "      <th>Female</th>\n",
       "      <th>Male</th>\n",
       "      <th>France</th>\n",
       "      <th>Germany</th>\n",
       "      <th>Spain</th>\n",
       "      <th>zero_balance</th>\n",
       "    </tr>\n",
       "  </thead>\n",
       "  <tbody>\n",
       "    <tr>\n",
       "      <th>0</th>\n",
       "      <td>1</td>\n",
       "      <td>619</td>\n",
       "      <td>42</td>\n",
       "      <td>2</td>\n",
       "      <td>1</td>\n",
       "      <td>1</td>\n",
       "      <td>1</td>\n",
       "      <td>101348.88</td>\n",
       "      <td>1</td>\n",
       "      <td>0</td>\n",
       "      <td>1</td>\n",
       "      <td>0</td>\n",
       "      <td>0</td>\n",
       "      <td>1</td>\n",
       "    </tr>\n",
       "    <tr>\n",
       "      <th>1</th>\n",
       "      <td>0</td>\n",
       "      <td>608</td>\n",
       "      <td>41</td>\n",
       "      <td>1</td>\n",
       "      <td>1</td>\n",
       "      <td>0</td>\n",
       "      <td>1</td>\n",
       "      <td>112542.58</td>\n",
       "      <td>1</td>\n",
       "      <td>0</td>\n",
       "      <td>0</td>\n",
       "      <td>0</td>\n",
       "      <td>1</td>\n",
       "      <td>0</td>\n",
       "    </tr>\n",
       "    <tr>\n",
       "      <th>2</th>\n",
       "      <td>1</td>\n",
       "      <td>502</td>\n",
       "      <td>42</td>\n",
       "      <td>8</td>\n",
       "      <td>3</td>\n",
       "      <td>1</td>\n",
       "      <td>0</td>\n",
       "      <td>113931.57</td>\n",
       "      <td>1</td>\n",
       "      <td>0</td>\n",
       "      <td>1</td>\n",
       "      <td>0</td>\n",
       "      <td>0</td>\n",
       "      <td>0</td>\n",
       "    </tr>\n",
       "    <tr>\n",
       "      <th>3</th>\n",
       "      <td>0</td>\n",
       "      <td>699</td>\n",
       "      <td>39</td>\n",
       "      <td>1</td>\n",
       "      <td>2</td>\n",
       "      <td>0</td>\n",
       "      <td>0</td>\n",
       "      <td>93826.63</td>\n",
       "      <td>1</td>\n",
       "      <td>0</td>\n",
       "      <td>1</td>\n",
       "      <td>0</td>\n",
       "      <td>0</td>\n",
       "      <td>1</td>\n",
       "    </tr>\n",
       "    <tr>\n",
       "      <th>4</th>\n",
       "      <td>0</td>\n",
       "      <td>850</td>\n",
       "      <td>43</td>\n",
       "      <td>2</td>\n",
       "      <td>1</td>\n",
       "      <td>1</td>\n",
       "      <td>1</td>\n",
       "      <td>79084.10</td>\n",
       "      <td>1</td>\n",
       "      <td>0</td>\n",
       "      <td>0</td>\n",
       "      <td>0</td>\n",
       "      <td>1</td>\n",
       "      <td>0</td>\n",
       "    </tr>\n",
       "  </tbody>\n",
       "</table>\n",
       "</div>"
      ],
      "text/plain": [
       "   churn  credit_score  age  tenure  products_number  credit_card  \\\n",
       "0      1           619   42       2                1            1   \n",
       "1      0           608   41       1                1            0   \n",
       "2      1           502   42       8                3            1   \n",
       "3      0           699   39       1                2            0   \n",
       "4      0           850   43       2                1            1   \n",
       "\n",
       "   active_member  estimated_salary  Female  Male  France  Germany  Spain  \\\n",
       "0              1         101348.88       1     0       1        0      0   \n",
       "1              1         112542.58       1     0       0        0      1   \n",
       "2              0         113931.57       1     0       1        0      0   \n",
       "3              0          93826.63       1     0       1        0      0   \n",
       "4              1          79084.10       1     0       0        0      1   \n",
       "\n",
       "   zero_balance  \n",
       "0             1  \n",
       "1             0  \n",
       "2             0  \n",
       "3             1  \n",
       "4             0  "
      ]
     },
     "execution_count": 30,
     "metadata": {},
     "output_type": "execute_result"
    }
   ],
   "source": [
    "data2.head()"
   ]
  },
  {
   "cell_type": "code",
   "execution_count": 31,
   "id": "cf8979f8-5d32-47fa-8092-bc2ae819af1d",
   "metadata": {},
   "outputs": [
    {
     "data": {
      "text/plain": [
       "churn                 int64\n",
       "credit_score          int64\n",
       "age                   int64\n",
       "tenure                int64\n",
       "products_number       int64\n",
       "credit_card           int64\n",
       "active_member         int64\n",
       "estimated_salary    float64\n",
       "Female                uint8\n",
       "Male                  uint8\n",
       "France                uint8\n",
       "Germany               uint8\n",
       "Spain                 uint8\n",
       "zero_balance          int64\n",
       "dtype: object"
      ]
     },
     "execution_count": 31,
     "metadata": {},
     "output_type": "execute_result"
    }
   ],
   "source": [
    "data2.dtypes"
   ]
  },
  {
   "cell_type": "code",
   "execution_count": 32,
   "id": "49b4272e-76ed-4a86-8417-3941f3491831",
   "metadata": {},
   "outputs": [],
   "source": [
    "numeric_vars = data2[['churn', 'credit_score', 'age', 'tenure','products_number', 'estimated_salary']]"
   ]
  },
  {
   "cell_type": "code",
   "execution_count": 33,
   "id": "190d2312-3b4b-48f6-bc83-9296b6dd00d3",
   "metadata": {},
   "outputs": [
    {
     "name": "stdout",
     "output_type": "stream",
     "text": [
      "                  churn  credit_score   age  tenure  products_number  \\\n",
      "churn              1.00         -0.03  0.29   -0.01            -0.05   \n",
      "credit_score      -0.03          1.00 -0.00    0.00             0.01   \n",
      "age                0.29         -0.00  1.00   -0.01            -0.03   \n",
      "tenure            -0.01          0.00 -0.01    1.00             0.01   \n",
      "products_number   -0.05          0.01 -0.03    0.01             1.00   \n",
      "estimated_salary   0.01         -0.00 -0.01    0.01             0.01   \n",
      "\n",
      "                  estimated_salary  \n",
      "churn                         0.01  \n",
      "credit_score                 -0.00  \n",
      "age                          -0.01  \n",
      "tenure                        0.01  \n",
      "products_number               0.01  \n",
      "estimated_salary              1.00  \n"
     ]
    }
   ],
   "source": [
    "corr_matrix = numeric_vars.corr().round(2)\n",
    "print(corr_matrix)"
   ]
  },
  {
   "cell_type": "code",
   "execution_count": 34,
   "id": "764886a6-3bba-4a08-a323-b55c6e81b695",
   "metadata": {},
   "outputs": [
    {
     "data": {
      "image/png": "[encoded data removed]",
      "text/plain": [
       "<Figure size 1400x700 with 2 Axes>"
      ]
     },
     "metadata": {},
     "output_type": "display_data"
    }
   ],
   "source": [
    "plt.figure(figsize = (14,7))\n",
    "sns.heatmap(corr_matrix, annot=True, cmap='Blues')\n",
    "plt.title(label=\"Correlation Matrix for Numeric Variables\")\n",
    "plt.show()"
   ]
  },
  {
   "cell_type": "markdown",
   "id": "40c6ff56-b54a-44c0-a47d-d2aab2c0775d",
   "metadata": {},
   "source": [
    "**Variable Selection**"
   ]
  },
  {
   "cell_type": "code",
   "execution_count": 35,
   "id": "c727646b-34c5-420c-8654-bb6eca901fd3",
   "metadata": {},
   "outputs": [
    {
     "data": {
      "text/html": [
       "<div>\n",
       "<style scoped>\n",
       "    .dataframe tbody tr th:only-of-type {\n",
       "        vertical-align: middle;\n",
       "    }\n",
       "\n",
       "    .dataframe tbody tr th {\n",
       "        vertical-align: top;\n",
       "    }\n",
       "\n",
       "    .dataframe thead th {\n",
       "        text-align: right;\n",
       "    }\n",
       "</style>\n",
       "<table border=\"1\" class=\"dataframe\">\n",
       "  <thead>\n",
       "    <tr style=\"text-align: right;\">\n",
       "      <th></th>\n",
       "      <th>churn</th>\n",
       "      <th>credit_score</th>\n",
       "      <th>age</th>\n",
       "      <th>tenure</th>\n",
       "      <th>products_number</th>\n",
       "      <th>credit_card</th>\n",
       "      <th>active_member</th>\n",
       "      <th>estimated_salary</th>\n",
       "      <th>Female</th>\n",
       "      <th>Male</th>\n",
       "      <th>France</th>\n",
       "      <th>Germany</th>\n",
       "      <th>Spain</th>\n",
       "      <th>zero_balance</th>\n",
       "    </tr>\n",
       "  </thead>\n",
       "  <tbody>\n",
       "    <tr>\n",
       "      <th>0</th>\n",
       "      <td>1</td>\n",
       "      <td>619</td>\n",
       "      <td>42</td>\n",
       "      <td>2</td>\n",
       "      <td>1</td>\n",
       "      <td>1</td>\n",
       "      <td>1</td>\n",
       "      <td>101348.88</td>\n",
       "      <td>1</td>\n",
       "      <td>0</td>\n",
       "      <td>1</td>\n",
       "      <td>0</td>\n",
       "      <td>0</td>\n",
       "      <td>1</td>\n",
       "    </tr>\n",
       "    <tr>\n",
       "      <th>1</th>\n",
       "      <td>0</td>\n",
       "      <td>608</td>\n",
       "      <td>41</td>\n",
       "      <td>1</td>\n",
       "      <td>1</td>\n",
       "      <td>0</td>\n",
       "      <td>1</td>\n",
       "      <td>112542.58</td>\n",
       "      <td>1</td>\n",
       "      <td>0</td>\n",
       "      <td>0</td>\n",
       "      <td>0</td>\n",
       "      <td>1</td>\n",
       "      <td>0</td>\n",
       "    </tr>\n",
       "    <tr>\n",
       "      <th>2</th>\n",
       "      <td>1</td>\n",
       "      <td>502</td>\n",
       "      <td>42</td>\n",
       "      <td>8</td>\n",
       "      <td>3</td>\n",
       "      <td>1</td>\n",
       "      <td>0</td>\n",
       "      <td>113931.57</td>\n",
       "      <td>1</td>\n",
       "      <td>0</td>\n",
       "      <td>1</td>\n",
       "      <td>0</td>\n",
       "      <td>0</td>\n",
       "      <td>0</td>\n",
       "    </tr>\n",
       "    <tr>\n",
       "      <th>3</th>\n",
       "      <td>0</td>\n",
       "      <td>699</td>\n",
       "      <td>39</td>\n",
       "      <td>1</td>\n",
       "      <td>2</td>\n",
       "      <td>0</td>\n",
       "      <td>0</td>\n",
       "      <td>93826.63</td>\n",
       "      <td>1</td>\n",
       "      <td>0</td>\n",
       "      <td>1</td>\n",
       "      <td>0</td>\n",
       "      <td>0</td>\n",
       "      <td>1</td>\n",
       "    </tr>\n",
       "    <tr>\n",
       "      <th>4</th>\n",
       "      <td>0</td>\n",
       "      <td>850</td>\n",
       "      <td>43</td>\n",
       "      <td>2</td>\n",
       "      <td>1</td>\n",
       "      <td>1</td>\n",
       "      <td>1</td>\n",
       "      <td>79084.10</td>\n",
       "      <td>1</td>\n",
       "      <td>0</td>\n",
       "      <td>0</td>\n",
       "      <td>0</td>\n",
       "      <td>1</td>\n",
       "      <td>0</td>\n",
       "    </tr>\n",
       "  </tbody>\n",
       "</table>\n",
       "</div>"
      ],
      "text/plain": [
       "   churn  credit_score  age  tenure  products_number  credit_card  \\\n",
       "0      1           619   42       2                1            1   \n",
       "1      0           608   41       1                1            0   \n",
       "2      1           502   42       8                3            1   \n",
       "3      0           699   39       1                2            0   \n",
       "4      0           850   43       2                1            1   \n",
       "\n",
       "   active_member  estimated_salary  Female  Male  France  Germany  Spain  \\\n",
       "0              1         101348.88       1     0       1        0      0   \n",
       "1              1         112542.58       1     0       0        0      1   \n",
       "2              0         113931.57       1     0       1        0      0   \n",
       "3              0          93826.63       1     0       1        0      0   \n",
       "4              1          79084.10       1     0       0        0      1   \n",
       "\n",
       "   zero_balance  \n",
       "0             1  \n",
       "1             0  \n",
       "2             0  \n",
       "3             1  \n",
       "4             0  "
      ]
     },
     "execution_count": 35,
     "metadata": {},
     "output_type": "execute_result"
    }
   ],
   "source": [
    "data2.head()"
   ]
  },
  {
   "cell_type": "code",
   "execution_count": 36,
   "id": "5bacde64-d258-4e4a-bcee-822c20730691",
   "metadata": {},
   "outputs": [],
   "source": [
    "features = data2.columns[1:14]\n",
    "target = data2.columns[0]\n",
    "X = data2[features].values\n",
    "y = data2[target].values"
   ]
  },
  {
   "cell_type": "code",
   "execution_count": 37,
   "id": "2729ae39-8db6-40c9-ae61-0317faebed37",
   "metadata": {
    "tags": []
   },
   "outputs": [
    {
     "name": "stdout",
     "output_type": "stream",
     "text": [
      "[[619.  42.   2. ...   0.   0.   1.]\n",
      " [608.  41.   1. ...   0.   1.   0.]\n",
      " [502.  42.   8. ...   0.   0.   0.]\n",
      " ...\n",
      " [709.  36.   7. ...   0.   0.   1.]\n",
      " [772.  42.   3. ...   1.   0.   0.]\n",
      " [792.  28.   4. ...   0.   0.   0.]]\n"
     ]
    }
   ],
   "source": [
    "print(X)"
   ]
  },
  {
   "cell_type": "code",
   "execution_count": 38,
   "id": "c247f4f9-7843-4558-b492-cf25fd1d681b",
   "metadata": {},
   "outputs": [
    {
     "name": "stdout",
     "output_type": "stream",
     "text": [
      "[1 0 1 ... 1 1 0]\n"
     ]
    }
   ],
   "source": [
    "print(y)"
   ]
  },
  {
   "cell_type": "code",
   "execution_count": 39,
   "id": "9afaa73a-98aa-4852-81e2-ba16c5c1858e",
   "metadata": {},
   "outputs": [],
   "source": [
    "X_train, X_test, y_train, y_test = train_test_split(X, y, test_size=0.2, random_state=4)"
   ]
  },
  {
   "cell_type": "code",
   "execution_count": 40,
   "id": "a6dd3e61-cd81-4682-9503-0342e37d0d38",
   "metadata": {},
   "outputs": [
    {
     "data": {
      "text/plain": [
       "(array([0, 1]), array([6359, 1641]))"
      ]
     },
     "execution_count": 40,
     "metadata": {},
     "output_type": "execute_result"
    }
   ],
   "source": [
    "np.unique(y_train, return_counts=True)"
   ]
  },
  {
   "cell_type": "code",
   "execution_count": 41,
   "id": "ff586b06-fe7a-4a2a-b7f4-1d2fa5d79c5c",
   "metadata": {},
   "outputs": [
    {
     "data": {
      "text/plain": [
       "(array([0, 1]), array([1604,  396]))"
      ]
     },
     "execution_count": 41,
     "metadata": {},
     "output_type": "execute_result"
    }
   ],
   "source": [
    "np.unique(y_test, return_counts=True)"
   ]
  },
  {
   "cell_type": "code",
   "execution_count": 42,
   "id": "3880a84b-ad3a-4eb2-a011-5f4bcb9378e7",
   "metadata": {},
   "outputs": [],
   "source": [
    "scaler = StandardScaler()\n",
    "X_train_scaled = scaler.fit_transform(X_train)\n",
    "#X_test_scaled = scaler.transform(X_test)"
   ]
  },
  {
   "cell_type": "code",
   "execution_count": null,
   "id": "d6e954e3-1813-44fc-82d0-125f6ee817b4",
   "metadata": {},
   "outputs": [],
   "source": [
    "lasso_glm = LogisticRegressionCV(Cs = [0.001, 0.005, 0.0075, 0.01, .05, .075, .1, .5, .75, 1], cv=10, penalty='l1', solver=\"liblinear\", random_state=2).fit(X_train_scaled, y_train)"
   ]
  },
  {
   "cell_type": "code",
   "execution_count": null,
   "id": "0a89ecbe-feed-436c-ac29-0e0851f7b28a",
   "metadata": {},
   "outputs": [],
   "source": [
    "lasso_glm.C_"
   ]
  },
  {
   "cell_type": "code",
   "execution_count": null,
   "id": "3ec0f92d-ac24-4a98-ad01-80500ec75637",
   "metadata": {},
   "outputs": [],
   "source": [
    "cs = lasso_glm.Cs_\n",
    "print(cs)"
   ]
  },
  {
   "cell_type": "code",
   "execution_count": null,
   "id": "2480764d-0461-456e-9cf8-fb23796b97b9",
   "metadata": {},
   "outputs": [],
   "source": [
    "scs = lasso_glm.scores_[1]\n",
    "scs"
   ]
  },
  {
   "cell_type": "code",
   "execution_count": null,
   "id": "dd04cd20-a531-4d0c-913c-d32293731ee8",
   "metadata": {},
   "outputs": [],
   "source": [
    "scores = np.mean(scs, axis=0)\n",
    "scores"
   ]
  },
  {
   "cell_type": "code",
   "execution_count": null,
   "id": "8dba1832-9eda-4917-93a3-d2e66419e25b",
   "metadata": {},
   "outputs": [],
   "source": [
    "plt.plot(cs, scores, \"-o\") #Inverse of regularization strength; must be a positive float. Smaller values specify stronger regularization.\n",
    "plt.title(\"Average Accuracy Rate for Each Fold\")\n",
    "plt.xlabel(\"C tuning parameter\")\n",
    "plt.ylabel('Accuracy/Score for 0.5 Threshold')"
   ]
  },
  {
   "cell_type": "code",
   "execution_count": null,
   "id": "061dd2e1-6eb9-407a-bc98-04286738b20b",
   "metadata": {},
   "outputs": [],
   "source": [
    "lasso_glm.coef_"
   ]
  },
  {
   "cell_type": "code",
   "execution_count": null,
   "id": "95ed7a63-f896-46fd-8edb-c5100a3d79e8",
   "metadata": {},
   "outputs": [],
   "source": [
    "pd.Series(lasso_glm.coef_[0], features).sort_values(ascending = True).plot(kind = \"bar\")\n",
    "plt.title(\"Magnitude of Coefficients Determined by Logistic Lasso\")"
   ]
  },
  {
   "cell_type": "markdown",
   "id": "455f7f1f-77a7-4d00-99e8-b0ea18e5bb18",
   "metadata": {},
   "source": [
    "**Modeling**"
   ]
  },
  {
   "cell_type": "markdown",
   "id": "637a33b4-894c-48d6-8065-8f9df91171f2",
   "metadata": {},
   "source": [
    "*Logistic Regression*"
   ]
  },
  {
   "cell_type": "code",
   "execution_count": null,
   "id": "8ef8dd8b-0792-4e24-8faf-f3313f952f9d",
   "metadata": {},
   "outputs": [],
   "source": [
    "#13 features: remove : 9, 10, 12 (one-indexed, correct for zero based)"
   ]
  },
  {
   "cell_type": "code",
   "execution_count": null,
   "id": "ad4ed118-b63a-482f-8c65-840c4c67d26b",
   "metadata": {},
   "outputs": [],
   "source": [
    "print(X_train)\n",
    "X_train.shape"
   ]
  },
  {
   "cell_type": "code",
   "execution_count": null,
   "id": "d5431809-7d45-4642-a36f-1b5b6a5bc169",
   "metadata": {},
   "outputs": [],
   "source": [
    "X_train_mod = np.delete(X_train, [8,9,11], axis=1)"
   ]
  },
  {
   "cell_type": "code",
   "execution_count": null,
   "id": "af1fc1b9-1fd3-4ff4-ae6c-2759e51af902",
   "metadata": {},
   "outputs": [],
   "source": [
    "X_train_mod.shape"
   ]
  },
  {
   "cell_type": "code",
   "execution_count": null,
   "id": "37962b7d-3b61-41ae-8dc3-c38cf69efde9",
   "metadata": {},
   "outputs": [],
   "source": [
    "print(X_train_mod)"
   ]
  },
  {
   "cell_type": "code",
   "execution_count": null,
   "id": "a48aaa28-4980-489e-bcf7-ff9fa5db25bd",
   "metadata": {},
   "outputs": [],
   "source": [
    "X_test_mod = np.delete(X_test, [8,9,11], axis=1)"
   ]
  },
  {
   "cell_type": "code",
   "execution_count": null,
   "id": "8a1d2f82-358f-416b-9eab-5760db88f3c3",
   "metadata": {},
   "outputs": [],
   "source": [
    "X_test_mod.shape"
   ]
  },
  {
   "cell_type": "code",
   "execution_count": null,
   "id": "1004bd86-3e20-4522-bbcb-0b4a4068c9cc",
   "metadata": {},
   "outputs": [],
   "source": [
    "log = LogisticRegression(random_state=0).fit(X_train_mod, y_train)"
   ]
  },
  {
   "cell_type": "code",
   "execution_count": null,
   "id": "2a864534-d9b6-45b3-a690-20e09de5fa66",
   "metadata": {},
   "outputs": [],
   "source": [
    "log.coef_"
   ]
  },
  {
   "cell_type": "code",
   "execution_count": null,
   "id": "6cc3ddff-a760-4cdf-a915-6a485cc019b7",
   "metadata": {},
   "outputs": [],
   "source": [
    "log.score(X_train_mod, y_train)"
   ]
  },
  {
   "cell_type": "code",
   "execution_count": null,
   "id": "8f2794ec-d380-4a0a-8a99-07627fc0a135",
   "metadata": {},
   "outputs": [],
   "source": [
    "log.score(X_test_mod, y_test) #accuracy for test data"
   ]
  },
  {
   "cell_type": "code",
   "execution_count": null,
   "id": "8b52de90-e98b-455a-89b7-f58437f8a139",
   "metadata": {},
   "outputs": [],
   "source": [
    "#Citation: https://stackoverflow.com/questions/28716241/controlling-the-threshold-in-logistic-regression-in-scikit-learn"
   ]
  },
  {
   "cell_type": "code",
   "execution_count": null,
   "id": "8c6bd550-bfdb-4f99-a3c6-a44b76fa4cf4",
   "metadata": {},
   "outputs": [],
   "source": [
    "ax = plt.gca()\n",
    "plt.plot([0, 1], [0, 1], linestyle=\"--\", label='No Skill')\n",
    "rfc_disp = RocCurveDisplay.from_estimator(log, X_test_mod, y_test, ax=ax, alpha=0.8)\n",
    "plt.title(\"ROC Curve\")\n",
    "plt.show()"
   ]
  },
  {
   "cell_type": "code",
   "execution_count": null,
   "id": "d1cfc17a-0f86-4682-8c9b-585e50a32796",
   "metadata": {},
   "outputs": [],
   "source": [
    "pred_proba = log.predict_proba(X_test_mod)[:,1]\n",
    "#print(pred_proba)\n",
    "threshold_list = [0.05,0.1,0.15,0.2,0.25,0.3,0.35,0.4,0.45,0.5,0.55,0.6,0.65,.7,.75,.8,.85,.9,.95]\n",
    "for i in threshold_list:\n",
    "    print ('\\n******** For i = {} ******'.format(i))\n",
    "    y_test_pred = np.where(pred_proba > i, 1, 0)\n",
    "    test_accuracy = accuracy_score(y_test, y_test_pred)\n",
    "    print('Accuracy/Score is {}'.format(test_accuracy))\n",
    "    print(confusion_matrix(y_test, y_test_pred))\n",
    "    print(classification_report(y_test, y_test_pred, zero_division=1))"
   ]
  },
  {
   "cell_type": "code",
   "execution_count": null,
   "id": "60cfeb6d-94b2-4af9-9f26-8e746512c290",
   "metadata": {},
   "outputs": [],
   "source": [
    "#pred_y=log.predict(X_test_mod) \n",
    "\n",
    "#probs_y=log.predict_proba(X_test_mod) \n",
    "  # probs_y is a 2-D array of probability of being labeled as 0 (first \n",
    "  #column of \n",
    "  #array) vs 1 (2nd column in array)\n",
    "\n",
    "precision, recall, thresholds = precision_recall_curve(y_test, probs_y[:, \n",
    "1]) \n",
    "   #retrieve probability of being 1(in second column of probs_y)\n",
    "pr_auc = auc(recall, precision)\n",
    "\n",
    "plt.title(\"Precision-Recall vs Threshold Chart (Logistic Model)\")\n",
    "plt.plot(thresholds, precision[: -1], \"b--\", label=\"Precision\")\n",
    "plt.plot(thresholds, recall[: -1], \"r--\", label=\"Recall\")\n",
    "plt.ylabel(\"Precision, Recall\")\n",
    "plt.xlabel(\"Threshold\")\n",
    "plt.legend(loc=\"lower left\")\n",
    "plt.ylim([0,1])"
   ]
  },
  {
   "cell_type": "code",
   "execution_count": null,
   "id": "ec6b44d1-b829-484c-9715-8a9a8e79b9cd",
   "metadata": {},
   "outputs": [],
   "source": [
    "#based off plot above, a threshold around 0.3 may produce the best prediction performance"
   ]
  },
  {
   "cell_type": "markdown",
   "id": "87532540-59a9-4afa-b202-ab373099399a",
   "metadata": {},
   "source": [
    "*Random Forest*"
   ]
  },
  {
   "cell_type": "code",
   "execution_count": null,
   "id": "12ee7f2a-1a6b-41e6-a9c3-1b4c546c2094",
   "metadata": {},
   "outputs": [],
   "source": [
    "rf = RandomForestClassifier(random_state=0).fit(X_train_mod, y_train)"
   ]
  },
  {
   "cell_type": "code",
   "execution_count": null,
   "id": "79431c02-dbd1-4246-8e2c-072d610a71a1",
   "metadata": {},
   "outputs": [],
   "source": [
    "rf_preds = rf.predict(X_test_mod)"
   ]
  },
  {
   "cell_type": "code",
   "execution_count": null,
   "id": "8c105421-81cc-4001-88b3-59f7f1db5167",
   "metadata": {},
   "outputs": [],
   "source": [
    "rf_accuracy = accuracy_score(y_test, rf_preds)\n",
    "print('Accuracy/Score is {}'.format(rf_accuracy))\n",
    "print(confusion_matrix(y_test, rf_preds))\n",
    "print(classification_report(y_test, rf_preds, zero_division=1))"
   ]
  },
  {
   "cell_type": "code",
   "execution_count": null,
   "id": "64746cb9-eb07-4b4f-a3f6-02f52a897dd7",
   "metadata": {},
   "outputs": [],
   "source": [
    "ax = plt.gca()\n",
    "rfc_disp = RocCurveDisplay.from_estimator(rf, X_test_mod, y_test, ax=ax, alpha=0.8)\n",
    "plt.show()"
   ]
  },
  {
   "cell_type": "code",
   "execution_count": null,
   "id": "572b634f-1f0e-4e6b-b8ee-09666523ea86",
   "metadata": {},
   "outputs": [],
   "source": []
  }
 ],
 "metadata": {
  "kernelspec": {
   "display_name": "Python 3 (ipykernel)",
   "language": "python",
   "name": "python3"
  },
  "language_info": {
   "codemirror_mode": {
    "name": "ipython",
    "version": 3
   },
   "file_extension": ".py",
   "mimetype": "text/x-python",
   "name": "python",
   "nbconvert_exporter": "python",
   "pygments_lexer": "ipython3",
   "version": "3.8.10"
  }
 },
 "nbformat": 4,
 "nbformat_minor": 5
}
